{
  "nbformat": 4,
  "nbformat_minor": 0,
  "metadata": {
    "colab": {
      "name": "Random Forest.ipynb",
      "provenance": [],
      "collapsed_sections": [],
      "toc_visible": true,
      "mount_file_id": "1nJ-QuTEFC-iXApwLFwif1FTTH8Kwr2vm",
      "authorship_tag": "ABX9TyP0HeUNdt1sT7eb+UiUaCyv",
      "include_colab_link": true
    },
    "kernelspec": {
      "name": "python3",
      "display_name": "Python 3"
    }
  },
  "cells": [
    {
      "cell_type": "markdown",
      "metadata": {
        "id": "view-in-github",
        "colab_type": "text"
      },
      "source": [
        "<a href=\"https://colab.research.google.com/github/ammarSherif/KDD-ML-IDS/blob/main/Random_Forest.ipynb\" target=\"_parent\"><img src=\"https://colab.research.google.com/assets/colab-badge.svg\" alt=\"Open In Colab\"/></a>"
      ]
    },
    {
      "cell_type": "markdown",
      "metadata": {
        "id": "Kqc8lZk7as0Z"
      },
      "source": [
        "# ML IDS using Random Forest\n",
        "In this notebook, I will try to achieve high accuracy using the Random Forest model"
      ]
    },
    {
      "cell_type": "markdown",
      "metadata": {
        "id": "HmJlx8lSa_ZB"
      },
      "source": [
        "## Import Dataset\n",
        "Previously, I modified the dataset adding a feature header to it, so as to be able to deal with it as a CSV dataset. I will train on the 10% dataset whose name is `kddcup.data_10_percent` on the official website. "
      ]
    },
    {
      "cell_type": "code",
      "metadata": {
        "id": "K-lNRwFGc4IG"
      },
      "source": [
        "# ================================================================\n",
        "# Import some needed packages\n",
        "# ================================================================\n",
        "import pandas as pd\n",
        "import numpy as np\n",
        "from sklearn.preprocessing import LabelEncoder\n",
        "from sklearn.model_selection import train_test_split\n",
        "from sklearn.ensemble import RandomForestClassifier\n",
        "from sklearn import metrics\n",
        "import matplotlib.pyplot as plt"
      ],
      "execution_count": 1,
      "outputs": []
    },
    {
      "cell_type": "code",
      "metadata": {
        "colab": {
          "base_uri": "https://localhost:8080/"
        },
        "id": "VZ5D6ZaMagu3",
        "outputId": "925c8dc3-208d-460a-a4be-70378754d598"
      },
      "source": [
        "# ================================================================\n",
        "# Importing the training data from the drive\n",
        "# ================================================================\n",
        "f = '/content/drive/MyDrive/Data/IDS/kddcup.data_10_percent'\n",
        "data10 = pd.read_csv(f)\n",
        "# ================================================================\n",
        "# We print its shape\n",
        "# ================================================================\n",
        "data10.shape"
      ],
      "execution_count": 2,
      "outputs": [
        {
          "output_type": "execute_result",
          "data": {
            "text/plain": [
              "(494021, 42)"
            ]
          },
          "metadata": {
            "tags": []
          },
          "execution_count": 2
        }
      ]
    },
    {
      "cell_type": "code",
      "metadata": {
        "colab": {
          "base_uri": "https://localhost:8080/"
        },
        "id": "7oM5vJPmOabS",
        "outputId": "dcefa5f1-184c-4ada-f412-cee5ca9a196a"
      },
      "source": [
        "# ================================================================\n",
        "# Importing a new labeled test data to test our model on it\n",
        "# ================================================================\n",
        "f = '/content/drive/MyDrive/Data/IDS/corrected'\n",
        "testCorrect = pd.read_csv(f)\n",
        "# ================================================================\n",
        "# We print its shape\n",
        "# ================================================================\n",
        "testCorrect.shape"
      ],
      "execution_count": 3,
      "outputs": [
        {
          "output_type": "execute_result",
          "data": {
            "text/plain": [
              "(311029, 42)"
            ]
          },
          "metadata": {
            "tags": []
          },
          "execution_count": 3
        }
      ]
    },
    {
      "cell_type": "markdown",
      "metadata": {
        "id": "tRB6uHWxrXT8"
      },
      "source": [
        "Notice that the labeld test dataset `corrected` includes around **17 new attacks** that were not present in the original training dataset, as seen below. The idea is that security, domain, experts claims that new attacks are similar to the older ones, and our model should be able to detect them as well."
      ]
    },
    {
      "cell_type": "code",
      "metadata": {
        "colab": {
          "base_uri": "https://localhost:8080/"
        },
        "id": "8OA0YKQdaFJa",
        "outputId": "ed26c1d5-025e-4e9f-ab32-4fcd56837fd2"
      },
      "source": [
        "data10.label.unique()"
      ],
      "execution_count": 4,
      "outputs": [
        {
          "output_type": "execute_result",
          "data": {
            "text/plain": [
              "array(['normal.', 'buffer_overflow.', 'loadmodule.', 'perl.', 'neptune.',\n",
              "       'smurf.', 'guess_passwd.', 'pod.', 'teardrop.', 'portsweep.',\n",
              "       'ipsweep.', 'land.', 'ftp_write.', 'back.', 'imap.', 'satan.',\n",
              "       'phf.', 'nmap.', 'multihop.', 'warezmaster.', 'warezclient.',\n",
              "       'spy.', 'rootkit.'], dtype=object)"
            ]
          },
          "metadata": {
            "tags": []
          },
          "execution_count": 4
        }
      ]
    },
    {
      "cell_type": "code",
      "metadata": {
        "colab": {
          "base_uri": "https://localhost:8080/"
        },
        "id": "m8MC2ymBaJt8",
        "outputId": "0561153f-cbfa-4a27-f127-7aa3b423338f"
      },
      "source": [
        "testCorrect.label.unique()"
      ],
      "execution_count": 5,
      "outputs": [
        {
          "output_type": "execute_result",
          "data": {
            "text/plain": [
              "array(['normal.', 'snmpgetattack.', 'named.', 'xlock.', 'smurf.',\n",
              "       'ipsweep.', 'multihop.', 'xsnoop.', 'sendmail.', 'guess_passwd.',\n",
              "       'saint.', 'buffer_overflow.', 'portsweep.', 'pod.', 'apache2.',\n",
              "       'phf.', 'udpstorm.', 'warezmaster.', 'perl.', 'satan.', 'xterm.',\n",
              "       'mscan.', 'processtable.', 'ps.', 'nmap.', 'rootkit.', 'neptune.',\n",
              "       'loadmodule.', 'imap.', 'back.', 'httptunnel.', 'worm.',\n",
              "       'mailbomb.', 'ftp_write.', 'teardrop.', 'land.', 'sqlattack.',\n",
              "       'snmpguess.'], dtype=object)"
            ]
          },
          "metadata": {
            "tags": []
          },
          "execution_count": 5
        }
      ]
    },
    {
      "cell_type": "code",
      "metadata": {
        "colab": {
          "base_uri": "https://localhost:8080/"
        },
        "id": "46WxXmLGpzpY",
        "outputId": "2507fcb0-1b37-489f-b693-0e017678002f"
      },
      "source": [
        "# ================================================================\n",
        "# Print the attacks not in the previous dataset\n",
        "# ================================================================\n",
        "newAttacks = set(testCorrect.label.unique())- set(\n",
        "                 data10.label.unique())\n",
        "print(newAttacks)\n",
        "print(len(newAttacks))"
      ],
      "execution_count": 6,
      "outputs": [
        {
          "output_type": "stream",
          "text": [
            "{'snmpgetattack.', 'apache2.', 'mscan.', 'worm.', 'snmpguess.', 'xsnoop.', 'processtable.', 'named.', 'sqlattack.', 'xterm.', 'udpstorm.', 'httptunnel.', 'ps.', 'mailbomb.', 'sendmail.', 'xlock.', 'saint.'}\n",
            "17\n"
          ],
          "name": "stdout"
        }
      ]
    },
    {
      "cell_type": "markdown",
      "metadata": {
        "id": "gfxuWlhYar0Z"
      },
      "source": [
        "## Feature Engineering\n",
        "Now, we will manipulate the features to increase the efficiency of the training. Nevertheless, in order to do so, we first check some information about the data as below:"
      ]
    },
    {
      "cell_type": "code",
      "metadata": {
        "colab": {
          "base_uri": "https://localhost:8080/"
        },
        "id": "egzGckEldkcG",
        "outputId": "5e7ae36e-52e8-4477-9bfe-7cf0e8eecfc1"
      },
      "source": [
        "# ================================================================\n",
        "# Check the datatypes\n",
        "# ================================================================\n",
        "data10.dtypes"
      ],
      "execution_count": 7,
      "outputs": [
        {
          "output_type": "execute_result",
          "data": {
            "text/plain": [
              "duration                         int64\n",
              "protocol_type                   object\n",
              "service                         object\n",
              "flag                            object\n",
              "src_bytes                        int64\n",
              "dst_bytes                        int64\n",
              "land                             int64\n",
              "wrong_fragment                   int64\n",
              "urgent                           int64\n",
              "hot                              int64\n",
              "num_failed_logins                int64\n",
              "logged_in                        int64\n",
              "num_compromised                  int64\n",
              "root_shell                       int64\n",
              "su_attempted                     int64\n",
              "num_root                         int64\n",
              "num_file_creations               int64\n",
              "num_shells                       int64\n",
              "num_access_files                 int64\n",
              "num_outbound_cmds                int64\n",
              "is_host_login                    int64\n",
              "is_guest_login                   int64\n",
              "count                            int64\n",
              "srv_count                        int64\n",
              "serror_rate                    float64\n",
              "srv_serror_rate                float64\n",
              "rerror_rate                    float64\n",
              "srv_rerror_rate                float64\n",
              "same_srv_rate                  float64\n",
              "diff_srv_rate                  float64\n",
              "srv_diff_host_rate             float64\n",
              "dst_host_count                   int64\n",
              "dst_host_srv_count               int64\n",
              "dst_host_same_srv_rate         float64\n",
              "dst_host_diff_srv_rate         float64\n",
              "dst_host_same_src_port_rate    float64\n",
              "dst_host_srv_diff_host_rate    float64\n",
              "dst_host_serror_rate           float64\n",
              "dst_host_srv_serror_rate       float64\n",
              "dst_host_rerror_rate           float64\n",
              "dst_host_srv_rerror_rate       float64\n",
              "label                           object\n",
              "dtype: object"
            ]
          },
          "metadata": {
            "tags": []
          },
          "execution_count": 7
        }
      ]
    },
    {
      "cell_type": "markdown",
      "metadata": {
        "id": "ssS1znjy9cRL"
      },
      "source": [
        "### Feature Selection\n",
        "We remove the 0 variance features"
      ]
    },
    {
      "cell_type": "code",
      "metadata": {
        "colab": {
          "base_uri": "https://localhost:8080/"
        },
        "id": "poMilQ6F2aEo",
        "outputId": "998bdf7d-87ab-4cc4-fef1-8d8b45a841c4"
      },
      "source": [
        "# ================================================================\n",
        "# Check the variance of numeric features\n",
        "# ================================================================\n",
        "data10.var()"
      ],
      "execution_count": 8,
      "outputs": [
        {
          "output_type": "execute_result",
          "data": {
            "text/plain": [
              "duration                       5.009051e+05\n",
              "src_bytes                      9.765750e+11\n",
              "dst_bytes                      1.091642e+09\n",
              "land                           4.453063e-05\n",
              "wrong_fragment                 1.817245e-02\n",
              "urgent                         3.036294e-05\n",
              "hot                            6.116844e-01\n",
              "num_failed_logins              2.408579e-04\n",
              "logged_in                      1.262699e-01\n",
              "num_compromised                3.233977e+00\n",
              "root_shell                     1.113191e-04\n",
              "su_attempted                   6.072496e-05\n",
              "num_root                       4.051035e+00\n",
              "num_file_creations             9.296022e-03\n",
              "num_shells                     1.214406e-04\n",
              "num_access_files               1.330914e-03\n",
              "num_outbound_cmds              0.000000e+00\n",
              "is_host_login                  0.000000e+00\n",
              "is_guest_login                 1.384661e-03\n",
              "count                          4.543182e+04\n",
              "srv_count                      6.067493e+04\n",
              "serror_rate                    1.449454e-01\n",
              "srv_serror_rate                1.451736e-01\n",
              "rerror_rate                    5.364943e-02\n",
              "srv_rerror_rate                5.389222e-02\n",
              "same_srv_rate                  1.506911e-01\n",
              "diff_srv_rate                  6.757743e-03\n",
              "srv_diff_host_rate             2.027704e-02\n",
              "dst_host_count                 4.191964e+03\n",
              "dst_host_srv_count             1.124457e+04\n",
              "dst_host_same_srv_rate         1.687410e-01\n",
              "dst_host_diff_srv_rate         1.193755e-02\n",
              "dst_host_same_src_port_rate    2.316586e-01\n",
              "dst_host_srv_diff_host_rate    1.775179e-03\n",
              "dst_host_serror_rate           1.448511e-01\n",
              "dst_host_srv_serror_rate       1.450996e-01\n",
              "dst_host_rerror_rate           5.317152e-02\n",
              "dst_host_srv_rerror_rate       5.296457e-02\n",
              "dtype: float64"
            ]
          },
          "metadata": {
            "tags": []
          },
          "execution_count": 8
        }
      ]
    },
    {
      "cell_type": "code",
      "metadata": {
        "id": "boRGkBNR9nUt"
      },
      "source": [
        "# ================================================================\n",
        "# Delete the 0 variance features\n",
        "# ================================================================\n",
        "del data10['num_outbound_cmds']\n",
        "del data10['is_host_login']\n",
        "del testCorrect['num_outbound_cmds']\n",
        "del testCorrect['is_host_login']"
      ],
      "execution_count": 9,
      "outputs": []
    },
    {
      "cell_type": "markdown",
      "metadata": {
        "id": "-8ljjWLys7y-"
      },
      "source": [
        "### New attacks records\n",
        "While testing we would like also to check the performance of our model in the unseen attacks; therefore, we copy them as below."
      ]
    },
    {
      "cell_type": "code",
      "metadata": {
        "colab": {
          "base_uri": "https://localhost:8080/"
        },
        "id": "idOWl1AutG82",
        "outputId": "8cff8b48-a51b-4f0d-cec2-716b824ff000"
      },
      "source": [
        "newRecords = testCorrect.loc[testCorrect['label'].isin(\n",
        "                            newAttacks)].copy()\n",
        "print(newRecords.shape)"
      ],
      "execution_count": 10,
      "outputs": [
        {
          "output_type": "stream",
          "text": [
            "(18729, 40)\n"
          ],
          "name": "stdout"
        }
      ]
    },
    {
      "cell_type": "code",
      "metadata": {
        "colab": {
          "base_uri": "https://localhost:8080/"
        },
        "id": "y2D9aNwgtlde",
        "outputId": "ed00a458-72dd-44d8-9432-f1cc1cdb8880"
      },
      "source": [
        "# ================================================================\n",
        "# Make sure  it equals the  new ones.\n",
        "# ================================================================\n",
        "print('Equal new attacks:',set(newRecords.label.unique()\n",
        "                              ) == newAttacks)"
      ],
      "execution_count": 11,
      "outputs": [
        {
          "output_type": "stream",
          "text": [
            "Equal new attacks: True\n"
          ],
          "name": "stdout"
        }
      ]
    },
    {
      "cell_type": "markdown",
      "metadata": {
        "id": "eDl3b4OMupHY"
      },
      "source": [
        "### Replicating Datasets\n",
        "As we are about to label the values to train it with our model, we copy it first."
      ]
    },
    {
      "cell_type": "code",
      "metadata": {
        "id": "wY5RaSLju7q2"
      },
      "source": [
        "dTrain = data10.copy()\n",
        "dTest  = testCorrect.copy()\n",
        "dNewTst= newRecords.copy()"
      ],
      "execution_count": 12,
      "outputs": []
    },
    {
      "cell_type": "markdown",
      "metadata": {
        "id": "2DK01pL2v9zV"
      },
      "source": [
        "### Categorical Features [Label Encoding]\n",
        "Notice we have some categorical features like `protocol_type,service,` and `flag`. Nevertheless, because we will use a **tree-based** model (Random Forest), we do encode the values using **label encoding**, as it would not affect the training of our model. In case, we are using Neural Network, for example, we might have used one of the below techniques:\n",
        "- Embedding\n",
        "- Dummy encoding\n"
      ]
    },
    {
      "cell_type": "code",
      "metadata": {
        "colab": {
          "base_uri": "https://localhost:8080/"
        },
        "id": "Z_T4UnJ7PTyx",
        "outputId": "8352b92f-e365-4388-f016-a4da8fc67c28"
      },
      "source": [
        "# ================================================================\n",
        "# Get the indices of categorical features\n",
        "# ================================================================\n",
        "objList = list(testCorrect.select_dtypes(\n",
        "                include = \"object\").columns)[:-1]\n",
        "print(objList)"
      ],
      "execution_count": 13,
      "outputs": [
        {
          "output_type": "stream",
          "text": [
            "['protocol_type', 'service', 'flag']\n"
          ],
          "name": "stdout"
        }
      ]
    },
    {
      "cell_type": "code",
      "metadata": {
        "id": "Xdx70GCkReEO"
      },
      "source": [
        "# ================================================================\n",
        "# Store the size of original dataset\n",
        "# ================================================================\n",
        "s1 = len(dTrain)\n",
        "s2 = len(dTest)\n",
        "s3 = len(dNewTst)\n",
        "# ================================================================\n",
        "# Merge the two datasets to label them uniquely.\n",
        "# ----------------------------------------------------------------\n",
        "# Note if we labeled  them indiviually, an item  'A' might have  a\n",
        "# label 0 in one dataset and 2 in another.  This will make it  in-\n",
        "# appropriate to test the model on the other dataset.\n",
        "# ================================================================\n",
        "data = dTrain.append(dTest).append(dNewTst)"
      ],
      "execution_count": 14,
      "outputs": []
    },
    {
      "cell_type": "code",
      "metadata": {
        "id": "gWJObWbTRcRb"
      },
      "source": [
        "# ================================================================\n",
        "# Create label encoding, to train it later on\n",
        "# ================================================================\n",
        "le = LabelEncoder()\n",
        "for feature in objList:\n",
        "  data[feature] = le.fit_transform(data[feature])"
      ],
      "execution_count": 15,
      "outputs": []
    },
    {
      "cell_type": "code",
      "metadata": {
        "id": "NJuDTiNETFXj"
      },
      "source": [
        "# ================================================================\n",
        "# Split them again\n",
        "# ================================================================\n",
        "dTrain = data.iloc[:s1,:].copy()\n",
        "dTest  = data.iloc[s1:(s1+s2),:].copy()\n",
        "dNewTst= data.iloc[(s1+s2):,:].copy()"
      ],
      "execution_count": 16,
      "outputs": []
    },
    {
      "cell_type": "markdown",
      "metadata": {
        "id": "IC4DL8ty0TZQ"
      },
      "source": [
        "## Training [Malicious vs Normal]\n",
        "Now, we will train our model using all the features to detect whether a record is normal or malicious. Therefore, we first encode the labels into $0,1$"
      ]
    },
    {
      "cell_type": "code",
      "metadata": {
        "id": "3MNBI9MO_UAp"
      },
      "source": [
        "# ================================================================\n",
        "# Encode the labels into 0 for normal, 1 otherwise\n",
        "# ================================================================\n",
        "datasets = [dTrain,dTest,dNewTst]\n",
        "for d in datasets:\n",
        "  d['label'] = d['label'].map(lambda x: 0 if x =='normal.' else 1)"
      ],
      "execution_count": 17,
      "outputs": []
    },
    {
      "cell_type": "code",
      "metadata": {
        "colab": {
          "base_uri": "https://localhost:8080/"
        },
        "id": "9OEEd6D3_TyU",
        "outputId": "7cc1476b-1ac9-4da9-a4c4-8fe1e9d098a6"
      },
      "source": [
        "print(dTrain.label.value_counts()/len(dTrain))\n",
        "print(dTest.label.value_counts()/len(dTest))\n",
        "print(dNewTst.label.value_counts()/len(dNewTst))"
      ],
      "execution_count": 18,
      "outputs": [
        {
          "output_type": "stream",
          "text": [
            "1    0.803089\n",
            "0    0.196911\n",
            "Name: label, dtype: float64\n",
            "1    0.805185\n",
            "0    0.194815\n",
            "Name: label, dtype: float64\n",
            "1    1.0\n",
            "Name: label, dtype: float64\n"
          ],
          "name": "stdout"
        }
      ]
    },
    {
      "cell_type": "code",
      "metadata": {
        "id": "lYN7woN4TcZV"
      },
      "source": [
        "# ================================================================\n",
        "# Split the data from the target label\n",
        "# ================================================================\n",
        "colNum = len(dTrain.columns)\n",
        "y = dTrain.iloc[:,colNum-1].copy()\n",
        "x = dTrain.iloc[:,0:colNum-1].copy()\n",
        "yT = dTest.iloc[:,colNum-1].copy()\n",
        "xT = dTest.iloc[:,0:colNum-1].copy()\n",
        "yN= dNewTst.iloc[:,colNum-1].copy()\n",
        "xN= dNewTst.iloc[:,0:colNum-1].copy()"
      ],
      "execution_count": 19,
      "outputs": []
    },
    {
      "cell_type": "code",
      "metadata": {
        "id": "hxXZTl5-DKUk"
      },
      "source": [
        "# ================================================================\n",
        "# Split the training features to have 30% for testing and  70% for\n",
        "# training.\n",
        "# ================================================================\n",
        "x_train,x_test,y_train,y_test = train_test_split(x,y, \n",
        "                                                 test_size = 0.30) "
      ],
      "execution_count": 20,
      "outputs": []
    },
    {
      "cell_type": "code",
      "metadata": {
        "colab": {
          "base_uri": "https://localhost:8080/"
        },
        "id": "uFpHiFN7DrUZ",
        "outputId": "336a83ae-ab77-4bc9-9dd3-76f30d745619"
      },
      "source": [
        "# ================================================================\n",
        "# Train our model based on the training part from the \n",
        "# ================================================================\n",
        "rf = RandomForestClassifier(n_estimators = 100,n_jobs=-1,verbose=0)\n",
        "rf.fit(x_train, y_train)"
      ],
      "execution_count": 21,
      "outputs": [
        {
          "output_type": "execute_result",
          "data": {
            "text/plain": [
              "RandomForestClassifier(bootstrap=True, ccp_alpha=0.0, class_weight=None,\n",
              "                       criterion='gini', max_depth=None, max_features='auto',\n",
              "                       max_leaf_nodes=None, max_samples=None,\n",
              "                       min_impurity_decrease=0.0, min_impurity_split=None,\n",
              "                       min_samples_leaf=1, min_samples_split=2,\n",
              "                       min_weight_fraction_leaf=0.0, n_estimators=100,\n",
              "                       n_jobs=-1, oob_score=False, random_state=None, verbose=0,\n",
              "                       warm_start=False)"
            ]
          },
          "metadata": {
            "tags": []
          },
          "execution_count": 21
        }
      ]
    },
    {
      "cell_type": "code",
      "metadata": {
        "colab": {
          "base_uri": "https://localhost:8080/"
        },
        "id": "aLVZ9GX6C5hy",
        "outputId": "632d5c27-beae-4ce8-83f7-5c8ca3d13309"
      },
      "source": [
        "y_pred = rf.predict(x_test)\n",
        "print(\"Accuracy (same distribution): \", metrics.accuracy_score(y_test, y_pred))\n",
        "y_pred = rf.predict(xT)\n",
        "print(\"Accuracy (out of distribution): \", metrics.accuracy_score(yT, y_pred))\n",
        "y_pred = rf.predict(xN)\n",
        "print(\"Accuracy (Unknown attacks): \", metrics.accuracy_score(yN, y_pred))"
      ],
      "execution_count": 22,
      "outputs": [
        {
          "output_type": "stream",
          "text": [
            "Accuracy (same distribution):  0.9998178223700634\n",
            "Accuracy (out of distribution):  0.9281739001829411\n",
            "Accuracy (Unknown attacks):  0.09482620534999199\n"
          ],
          "name": "stdout"
        }
      ]
    },
    {
      "cell_type": "markdown",
      "metadata": {
        "id": "OeHoH4LYQZGm"
      },
      "source": [
        "## Training [Categories]\n",
        "Now, we will train our model using all the features to detect whether a record lies in the below categories as below:\n",
        "\n",
        "<table style=\"width: 80%\">\n",
        "  <tr>\n",
        "    <th>Category</th>\n",
        "    <th>Attack Name</th>\n",
        "    <th>Category</th>\n",
        "    <th>Attack Name</th>\n",
        "    <th>Category</th>\n",
        "    <th>Attack Name</th>\n",
        "    <th>Category</th>\n",
        "    <th>Attack Name</th>\n",
        "  </tr>\n",
        "  <tr>\n",
        "    <td rowspan=\"8\"><center>DOS</center></td>\n",
        "    <td align='center'>smurf</td>\n",
        "    <td rowspan=\"8\"><center>U2R</center></td>\n",
        "    <td align='center'>buffer_overflow</td>\n",
        "    <td rowspan=\"8\"><center>R2L</center></td>\n",
        "    <td align='center'>ftp_write</td>\n",
        "    <td rowspan=\"8\"><center>PROBE</center></td>\n",
        "    <td align='center'>ipsweep</td>\n",
        "  </tr>\n",
        "  <tr>\n",
        "    <td align='center'>neptune</td>\n",
        "    <td align='center'>loadmodule</td>\n",
        "    <td align='center'>guess_passwd</td>\n",
        "    <td align='center'>nmap</td>\n",
        "  </tr>\n",
        "  <tr>\n",
        "    <td align='center'>back</td>\n",
        "    <td align='center'>perl</td>\n",
        "    <td align='center'>imap</td>\n",
        "    <td align='center'>portsweep</td>\n",
        "  </tr>\n",
        "  <tr>\n",
        "    <td align='center'>pod</td>\n",
        "    <td align='center'>rootkit</td>\n",
        "    <td align='center'>multihop</td>\n",
        "    <td align='center'>satan</td>\n",
        "  </tr>\n",
        "  <tr>\n",
        "    <td align='center'>teardrop</td>\n",
        "    <td align='center'>&nbsp;</td>\n",
        "    <td align='center'>phf</td>\n",
        "    <td align='center'>&nbsp;</td>\n",
        "  </tr>\n",
        "  <tr>\n",
        "    <td align='center'>land</td>\n",
        "    <td align='center'>&nbsp;</td>\n",
        "    <td align='center'>spy</td>\n",
        "    <td align='center'>&nbsp;</td>\n",
        "  </tr>\n",
        "  <tr>\n",
        "    <td align='center'>&nbsp;</td>\n",
        "    <td align='center'>&nbsp;</td>\n",
        "    <td align='center'>warezclient</td>\n",
        "    <td align='center'>&nbsp;</td>\n",
        "  </tr>\n",
        "  <tr>\n",
        "    <td align='center'>&nbsp;</td>\n",
        "    <td align='center'>&nbsp;</td>\n",
        "    <td align='center'>warezmaster</td>\n",
        "    <td align='center'>&nbsp;</td>\n",
        "  </tr>\n",
        "  <tr>\n",
        "</table>\n",
        "<!-- array(['normal.', 'buffer_overflow.', 'loadmodule.', 'perl.', 'neptune.',\n",
        "       'smurf.', 'guess_passwd.', 'pod.', 'teardrop.', 'portsweep.',\n",
        "       'ipsweep.', 'land.', 'ftp_write.', 'back.', 'imap.', 'satan.',\n",
        "       'phf.', 'nmap.', 'multihop.', 'warezmaster.', 'warezclient.',\n",
        "       'spy.', 'rootkit.'], dtype=object) -->\n",
        "\n",
        "<!-- | Category | Attack Name |\n",
        "| :-: | :-: |\n",
        "| DOS | smurf. | -->"
      ]
    },
    {
      "cell_type": "code",
      "metadata": {
        "id": "FOXZvAVNsrPl"
      },
      "source": [
        "# ================================================================\n",
        "# Define the mapping table of attack categories\n",
        "# ================================================================\n",
        "attackMap = {\n",
        "    'normal.':'normal', 'smurf.':'dos', 'neptune.':'dos',\n",
        "    'back.':'dos', 'pod.':'dos', 'teardrop.':'dos', 'land.':'dos',\n",
        "    'buffer_overflow.':'u2r', 'loadmodule.':'u2r', 'perl.':'u2r',\n",
        "    'rootkit.':'u2r', 'ftp_write.':'r2l', 'guess_passwd.':'r2l',\n",
        "    'imap.':'r2l', 'multihop.':'r2l', 'phf.':'r2l', 'spy.':'r2l',\n",
        "    'warezclient.':'r2l', 'warezmaster.':'r2l',\n",
        "    'ipsweep.':'probe', 'nmap.':'probe', 'portsweep.':'probe',\n",
        "    'satan.':'probe',\n",
        "}\n",
        "\n",
        "# ================================================================\n",
        "# Define a function to map into malicious/normal\n",
        "# ================================================================\n",
        "def mapMalNorm(res):\n",
        "  return np.array([0 if x=='normal' else 1 for x in res])"
      ],
      "execution_count": 23,
      "outputs": []
    },
    {
      "cell_type": "code",
      "metadata": {
        "id": "K8QOlBYbQZGq"
      },
      "source": [
        "# ================================================================\n",
        "# Update the label data back\n",
        "# ================================================================\n",
        "dTrain['label'] = data10['label']\n",
        "dTest['label']  = testCorrect['label']\n",
        "dNewTst['label']= newRecords['label']\n",
        "# ================================================================\n",
        "# Encode the labels into categories\n",
        "# ================================================================\n",
        "datasets = [dTrain,dTest,dNewTst]\n",
        "for d in datasets:\n",
        "  d['label'] = d['label'].map(lambda x: attackMap[x] if x \n",
        "                              in attackMap else 'other')"
      ],
      "execution_count": 24,
      "outputs": []
    },
    {
      "cell_type": "code",
      "metadata": {
        "colab": {
          "base_uri": "https://localhost:8080/"
        },
        "id": "ZWc-vdiQQZGs",
        "outputId": "ed4a67df-e661-4c4f-9c16-2c4587f6c332"
      },
      "source": [
        "# ================================================================\n",
        "# Print the percentage of each attack\n",
        "# ================================================================\n",
        "print(dTrain.label.value_counts()/len(dTrain))\n",
        "print(dTest.label.value_counts()/len(dTest))\n",
        "print(dNewTst.label.value_counts()/len(dNewTst))"
      ],
      "execution_count": 25,
      "outputs": [
        {
          "output_type": "stream",
          "text": [
            "dos       0.792391\n",
            "normal    0.196911\n",
            "probe     0.008313\n",
            "r2l       0.002279\n",
            "u2r       0.000105\n",
            "Name: label, dtype: float64\n",
            "dos       0.717933\n",
            "normal    0.194815\n",
            "other     0.060216\n",
            "r2l       0.019268\n",
            "probe     0.007642\n",
            "u2r       0.000125\n",
            "Name: label, dtype: float64\n",
            "other    1.0\n",
            "Name: label, dtype: float64\n"
          ],
          "name": "stdout"
        }
      ]
    },
    {
      "cell_type": "code",
      "metadata": {
        "id": "jkQTsYXlQZGx"
      },
      "source": [
        "# ================================================================\n",
        "# Split the data from the target label\n",
        "# ================================================================\n",
        "colNum = len(dTrain.columns)\n",
        "y = dTrain.iloc[:,colNum-1].copy()\n",
        "x = dTrain.iloc[:,0:colNum-1].copy()\n",
        "yT = dTest.iloc[:,colNum-1].copy()\n",
        "xT = dTest.iloc[:,0:colNum-1].copy()\n",
        "yN= dNewTst.iloc[:,colNum-1].copy()\n",
        "xN= dNewTst.iloc[:,0:colNum-1].copy()"
      ],
      "execution_count": 26,
      "outputs": []
    },
    {
      "cell_type": "code",
      "metadata": {
        "id": "607tTKcPQZGy"
      },
      "source": [
        "# ================================================================\n",
        "# Split the training features to have 30% for testing and  70% for\n",
        "# training.\n",
        "# ================================================================\n",
        "x_train,x_test,y_train,y_test = train_test_split(x,y, \n",
        "                                                 test_size = 0.30) "
      ],
      "execution_count": 27,
      "outputs": []
    },
    {
      "cell_type": "code",
      "metadata": {
        "colab": {
          "base_uri": "https://localhost:8080/"
        },
        "id": "GSF40PpsQZG0",
        "outputId": "845dffba-de23-4d59-bd55-0a66b0562725"
      },
      "source": [
        "# ================================================================\n",
        "# Train our model based on the training part from the \n",
        "# ================================================================\n",
        "rf = RandomForestClassifier(n_estimators =100,n_jobs=-1,verbose=0)\n",
        "rf.fit(x_train, y_train)"
      ],
      "execution_count": 28,
      "outputs": [
        {
          "output_type": "execute_result",
          "data": {
            "text/plain": [
              "RandomForestClassifier(bootstrap=True, ccp_alpha=0.0, class_weight=None,\n",
              "                       criterion='gini', max_depth=None, max_features='auto',\n",
              "                       max_leaf_nodes=None, max_samples=None,\n",
              "                       min_impurity_decrease=0.0, min_impurity_split=None,\n",
              "                       min_samples_leaf=1, min_samples_split=2,\n",
              "                       min_weight_fraction_leaf=0.0, n_estimators=100,\n",
              "                       n_jobs=-1, oob_score=False, random_state=None, verbose=0,\n",
              "                       warm_start=False)"
            ]
          },
          "metadata": {
            "tags": []
          },
          "execution_count": 28
        }
      ]
    },
    {
      "cell_type": "code",
      "metadata": {
        "colab": {
          "base_uri": "https://localhost:8080/"
        },
        "id": "errTmbE4QZG4",
        "outputId": "0393282a-5f7b-44c6-9544-21e54711ad85"
      },
      "source": [
        "y_pred = rf.predict(x_test)\n",
        "print(\"Accuracy (same distribution): \", metrics.accuracy_score(y_test, y_pred))\n",
        "y_pred = rf.predict(xT)\n",
        "print(\"Accuracy (out of distribution): \", metrics.accuracy_score(yT, y_pred))\n",
        "# y_pred = rf.predict(xN)\n",
        "# print(\"Accuracy (Unknown attacks): \", metrics.accuracy_score(yN, y_pred))\n",
        "# ================================================================\n",
        "# After Mapping\n",
        "# ================================================================\n",
        "print(\"=====After Mapping into Maliciou/Normal=====\")\n",
        "y_pred = rf.predict(x_test)\n",
        "print(\"Accuracy (same distribution): \", metrics.accuracy_score(\n",
        "    mapMalNorm(y_test), mapMalNorm(y_pred)))\n",
        "y_pred = rf.predict(xT)\n",
        "print(\"Accuracy (out of distribution): \", metrics.accuracy_score(\n",
        "    mapMalNorm(yT), mapMalNorm(y_pred)))\n",
        "y_pred = rf.predict(xN)\n",
        "print(\"Accuracy (Unknown attacks): \", metrics.accuracy_score(\n",
        "    mapMalNorm(yN), mapMalNorm(y_pred)))"
      ],
      "execution_count": 29,
      "outputs": [
        {
          "output_type": "stream",
          "text": [
            "Accuracy (same distribution):  0.9997503491737907\n",
            "Accuracy (out of distribution):  0.9204318568365008\n",
            "=====After Mapping into Maliciou/Normal=====\n",
            "Accuracy (same distribution):  0.9997503491737907\n",
            "Accuracy (out of distribution):  0.9245600892521276\n",
            "Accuracy (Unknown attacks):  0.06786267286027017\n"
          ],
          "name": "stdout"
        }
      ]
    }
  ]
}