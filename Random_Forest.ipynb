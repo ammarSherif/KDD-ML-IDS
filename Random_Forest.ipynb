{
  "nbformat": 4,
  "nbformat_minor": 0,
  "metadata": {
    "colab": {
      "name": "Random Forest.ipynb",
      "provenance": [],
      "collapsed_sections": [],
      "toc_visible": true,
      "mount_file_id": "1nJ-QuTEFC-iXApwLFwif1FTTH8Kwr2vm",
      "authorship_tag": "ABX9TyON2LrR0q95BvIrChvvJ5F5",
      "include_colab_link": true
    },
    "kernelspec": {
      "name": "python3",
      "display_name": "Python 3"
    }
  },
  "cells": [
    {
      "cell_type": "markdown",
      "metadata": {
        "id": "view-in-github",
        "colab_type": "text"
      },
      "source": [
        "<a href=\"https://colab.research.google.com/github/ammarSherif/KDD-ML-IDS/blob/main/Random_Forest.ipynb\" target=\"_parent\"><img src=\"https://colab.research.google.com/assets/colab-badge.svg\" alt=\"Open In Colab\"/></a>"
      ]
    },
    {
      "cell_type": "markdown",
      "metadata": {
        "id": "Kqc8lZk7as0Z"
      },
      "source": [
        "# ML IDS using Random Forest\n",
        "In this notebook, I will try to achieve high accuracy using the Random Forest model."
      ]
    },
    {
      "cell_type": "markdown",
      "metadata": {
        "id": "x5e-rgGZXNmG"
      },
      "source": [
        "## Background"
      ]
    },
    {
      "cell_type": "markdown",
      "metadata": {
        "id": "KY3YDWy6XRq7"
      },
      "source": [
        "### Problem"
      ]
    },
    {
      "cell_type": "markdown",
      "metadata": {
        "id": "lsIAzFaKZR81"
      },
      "source": [
        "Cyberattacks have increased a lot throughout the last few years with our move towards technology. Traditionally, the security field has developed tools to protect against such attacks. One of these tools is the **Intrusion Detection System** (IDS). Its aim is to filter the network trafic to *prevent malicious* attacks. Nevertheless, because attackers always keep changing their tools and techniques, traditional IDS, rule-based ones, become more vulnerable to new attacks and is associated with high development cost. In this notebook, several experiments have been performed trying to build a successful IDS based on KDD intrusion dataset."
      ]
    },
    {
      "cell_type": "markdown",
      "metadata": {
        "id": "rDV5RtW5ZUAy"
      },
      "source": [
        "### Dataset"
      ]
    },
    {
      "cell_type": "markdown",
      "metadata": {
        "id": "bAT_R4wQY1ek"
      },
      "source": [
        "I used the **[KDD99](https://www.kdd.org/kdd-cup/view/kdd-cup-1999/Intro)** dataset. It is based on the DARPA Intrusion Detection Evaluation Program, which includes a wide variety of **intrusions** simulated in a military network environment."
      ]
    },
    {
      "cell_type": "markdown",
      "metadata": {
        "id": "HmJlx8lSa_ZB"
      },
      "source": [
        "## Import Dataset\n",
        "Previously, I modified the dataset adding a feature header to it, so as to be able to deal with it as a CSV dataset. I will train on the 10% dataset whose name is `kddcup.data_10_percent` on the official website. "
      ]
    },
    {
      "cell_type": "code",
      "metadata": {
        "id": "K-lNRwFGc4IG"
      },
      "source": [
        "# ================================================================\n",
        "# Import some needed packages\n",
        "# ================================================================\n",
        "import pandas as pd\n",
        "import numpy as np\n",
        "from sklearn.preprocessing import LabelEncoder\n",
        "from sklearn.model_selection import train_test_split\n",
        "from sklearn.ensemble import RandomForestClassifier\n",
        "from sklearn import metrics\n",
        "import matplotlib.pyplot as plt\n",
        "import seaborn as sns"
      ],
      "execution_count": 1,
      "outputs": []
    },
    {
      "cell_type": "code",
      "metadata": {
        "colab": {
          "base_uri": "https://localhost:8080/"
        },
        "id": "VZ5D6ZaMagu3",
        "outputId": "409f3e9c-7747-4c92-8184-fe3b57fb3578"
      },
      "source": [
        "# ================================================================\n",
        "# Importing the training data from the drive\n",
        "# ================================================================\n",
        "f = '/content/drive/MyDrive/Data/IDS/kddcup.data_10_percent'\n",
        "data10 = pd.read_csv(f)\n",
        "# ================================================================\n",
        "# We print its shape\n",
        "# ================================================================\n",
        "data10.shape"
      ],
      "execution_count": 2,
      "outputs": [
        {
          "output_type": "execute_result",
          "data": {
            "text/plain": [
              "(494021, 42)"
            ]
          },
          "metadata": {
            "tags": []
          },
          "execution_count": 2
        }
      ]
    },
    {
      "cell_type": "code",
      "metadata": {
        "colab": {
          "base_uri": "https://localhost:8080/"
        },
        "id": "7oM5vJPmOabS",
        "outputId": "5807f72a-6572-412d-fd86-8c9e140f403a"
      },
      "source": [
        "# ================================================================\n",
        "# Importing a new labeled test data to test our model on it\n",
        "# ================================================================\n",
        "f = '/content/drive/MyDrive/Data/IDS/corrected'\n",
        "testCorrect = pd.read_csv(f)\n",
        "# ================================================================\n",
        "# We print its shape\n",
        "# ================================================================\n",
        "testCorrect.shape"
      ],
      "execution_count": 3,
      "outputs": [
        {
          "output_type": "execute_result",
          "data": {
            "text/plain": [
              "(311029, 42)"
            ]
          },
          "metadata": {
            "tags": []
          },
          "execution_count": 3
        }
      ]
    },
    {
      "cell_type": "markdown",
      "metadata": {
        "id": "tRB6uHWxrXT8"
      },
      "source": [
        "Notice that the labeld test dataset `corrected` includes around **17 new attacks** that were not present in the original training dataset, as seen below. The idea is that security, domain, experts claims that new attacks are similar to the older ones, and our model should be able to detect them as well."
      ]
    },
    {
      "cell_type": "code",
      "metadata": {
        "colab": {
          "base_uri": "https://localhost:8080/"
        },
        "id": "8OA0YKQdaFJa",
        "outputId": "9b94c620-79a6-4351-be2a-3fdedc298d1b"
      },
      "source": [
        "data10.label.unique()"
      ],
      "execution_count": 4,
      "outputs": [
        {
          "output_type": "execute_result",
          "data": {
            "text/plain": [
              "array(['normal.', 'buffer_overflow.', 'loadmodule.', 'perl.', 'neptune.',\n",
              "       'smurf.', 'guess_passwd.', 'pod.', 'teardrop.', 'portsweep.',\n",
              "       'ipsweep.', 'land.', 'ftp_write.', 'back.', 'imap.', 'satan.',\n",
              "       'phf.', 'nmap.', 'multihop.', 'warezmaster.', 'warezclient.',\n",
              "       'spy.', 'rootkit.'], dtype=object)"
            ]
          },
          "metadata": {
            "tags": []
          },
          "execution_count": 4
        }
      ]
    },
    {
      "cell_type": "code",
      "metadata": {
        "colab": {
          "base_uri": "https://localhost:8080/"
        },
        "id": "m8MC2ymBaJt8",
        "outputId": "7d741d3f-a9cf-439c-f6d5-240f1500caa3"
      },
      "source": [
        "testCorrect.label.unique()"
      ],
      "execution_count": 5,
      "outputs": [
        {
          "output_type": "execute_result",
          "data": {
            "text/plain": [
              "array(['normal.', 'snmpgetattack.', 'named.', 'xlock.', 'smurf.',\n",
              "       'ipsweep.', 'multihop.', 'xsnoop.', 'sendmail.', 'guess_passwd.',\n",
              "       'saint.', 'buffer_overflow.', 'portsweep.', 'pod.', 'apache2.',\n",
              "       'phf.', 'udpstorm.', 'warezmaster.', 'perl.', 'satan.', 'xterm.',\n",
              "       'mscan.', 'processtable.', 'ps.', 'nmap.', 'rootkit.', 'neptune.',\n",
              "       'loadmodule.', 'imap.', 'back.', 'httptunnel.', 'worm.',\n",
              "       'mailbomb.', 'ftp_write.', 'teardrop.', 'land.', 'sqlattack.',\n",
              "       'snmpguess.'], dtype=object)"
            ]
          },
          "metadata": {
            "tags": []
          },
          "execution_count": 5
        }
      ]
    },
    {
      "cell_type": "code",
      "metadata": {
        "colab": {
          "base_uri": "https://localhost:8080/"
        },
        "id": "46WxXmLGpzpY",
        "outputId": "228447ac-cfcf-41fb-ecaf-5ebb108129ec"
      },
      "source": [
        "# ================================================================\n",
        "# Print the attacks not in the previous dataset\n",
        "# ================================================================\n",
        "newAttacks = set(testCorrect.label.unique())- set(\n",
        "                 data10.label.unique())\n",
        "print(newAttacks)\n",
        "print(len(newAttacks))"
      ],
      "execution_count": 6,
      "outputs": [
        {
          "output_type": "stream",
          "text": [
            "{'snmpguess.', 'xlock.', 'apache2.', 'snmpgetattack.', 'mscan.', 'worm.', 'ps.', 'httptunnel.', 'sendmail.', 'xsnoop.', 'mailbomb.', 'processtable.', 'saint.', 'xterm.', 'sqlattack.', 'named.', 'udpstorm.'}\n",
            "17\n"
          ],
          "name": "stdout"
        }
      ]
    },
    {
      "cell_type": "markdown",
      "metadata": {
        "id": "gfxuWlhYar0Z"
      },
      "source": [
        "## Feature Engineering\n",
        "Now, we will manipulate the features to increase the efficiency of the training. Nevertheless, in order to do so, we first check some information about the data as below:"
      ]
    },
    {
      "cell_type": "code",
      "metadata": {
        "colab": {
          "base_uri": "https://localhost:8080/"
        },
        "id": "egzGckEldkcG",
        "outputId": "e5488311-0d98-4aa6-81a1-45cd7ba94b90"
      },
      "source": [
        "# ================================================================\n",
        "# Check the datatypes\n",
        "# ================================================================\n",
        "data10.dtypes"
      ],
      "execution_count": 7,
      "outputs": [
        {
          "output_type": "execute_result",
          "data": {
            "text/plain": [
              "duration                         int64\n",
              "protocol_type                   object\n",
              "service                         object\n",
              "flag                            object\n",
              "src_bytes                        int64\n",
              "dst_bytes                        int64\n",
              "land                             int64\n",
              "wrong_fragment                   int64\n",
              "urgent                           int64\n",
              "hot                              int64\n",
              "num_failed_logins                int64\n",
              "logged_in                        int64\n",
              "num_compromised                  int64\n",
              "root_shell                       int64\n",
              "su_attempted                     int64\n",
              "num_root                         int64\n",
              "num_file_creations               int64\n",
              "num_shells                       int64\n",
              "num_access_files                 int64\n",
              "num_outbound_cmds                int64\n",
              "is_host_login                    int64\n",
              "is_guest_login                   int64\n",
              "count                            int64\n",
              "srv_count                        int64\n",
              "serror_rate                    float64\n",
              "srv_serror_rate                float64\n",
              "rerror_rate                    float64\n",
              "srv_rerror_rate                float64\n",
              "same_srv_rate                  float64\n",
              "diff_srv_rate                  float64\n",
              "srv_diff_host_rate             float64\n",
              "dst_host_count                   int64\n",
              "dst_host_srv_count               int64\n",
              "dst_host_same_srv_rate         float64\n",
              "dst_host_diff_srv_rate         float64\n",
              "dst_host_same_src_port_rate    float64\n",
              "dst_host_srv_diff_host_rate    float64\n",
              "dst_host_serror_rate           float64\n",
              "dst_host_srv_serror_rate       float64\n",
              "dst_host_rerror_rate           float64\n",
              "dst_host_srv_rerror_rate       float64\n",
              "label                           object\n",
              "dtype: object"
            ]
          },
          "metadata": {
            "tags": []
          },
          "execution_count": 7
        }
      ]
    },
    {
      "cell_type": "markdown",
      "metadata": {
        "id": "ssS1znjy9cRL"
      },
      "source": [
        "### Feature Selection"
      ]
    },
    {
      "cell_type": "markdown",
      "metadata": {
        "id": "dVnskfryHPUw"
      },
      "source": [
        "#### Using Variance\n",
        "We remove the 0 variance features"
      ]
    },
    {
      "cell_type": "code",
      "metadata": {
        "colab": {
          "base_uri": "https://localhost:8080/"
        },
        "id": "poMilQ6F2aEo",
        "outputId": "df81630f-2a37-411a-c79f-180e73c20411"
      },
      "source": [
        "# ================================================================\n",
        "# Check the variance of numeric features\n",
        "# ================================================================\n",
        "data10.var()"
      ],
      "execution_count": 8,
      "outputs": [
        {
          "output_type": "execute_result",
          "data": {
            "text/plain": [
              "duration                       5.009051e+05\n",
              "src_bytes                      9.765750e+11\n",
              "dst_bytes                      1.091642e+09\n",
              "land                           4.453063e-05\n",
              "wrong_fragment                 1.817245e-02\n",
              "urgent                         3.036294e-05\n",
              "hot                            6.116844e-01\n",
              "num_failed_logins              2.408579e-04\n",
              "logged_in                      1.262699e-01\n",
              "num_compromised                3.233977e+00\n",
              "root_shell                     1.113191e-04\n",
              "su_attempted                   6.072496e-05\n",
              "num_root                       4.051035e+00\n",
              "num_file_creations             9.296022e-03\n",
              "num_shells                     1.214406e-04\n",
              "num_access_files               1.330914e-03\n",
              "num_outbound_cmds              0.000000e+00\n",
              "is_host_login                  0.000000e+00\n",
              "is_guest_login                 1.384661e-03\n",
              "count                          4.543182e+04\n",
              "srv_count                      6.067493e+04\n",
              "serror_rate                    1.449454e-01\n",
              "srv_serror_rate                1.451736e-01\n",
              "rerror_rate                    5.364943e-02\n",
              "srv_rerror_rate                5.389222e-02\n",
              "same_srv_rate                  1.506911e-01\n",
              "diff_srv_rate                  6.757743e-03\n",
              "srv_diff_host_rate             2.027704e-02\n",
              "dst_host_count                 4.191964e+03\n",
              "dst_host_srv_count             1.124457e+04\n",
              "dst_host_same_srv_rate         1.687410e-01\n",
              "dst_host_diff_srv_rate         1.193755e-02\n",
              "dst_host_same_src_port_rate    2.316586e-01\n",
              "dst_host_srv_diff_host_rate    1.775179e-03\n",
              "dst_host_serror_rate           1.448511e-01\n",
              "dst_host_srv_serror_rate       1.450996e-01\n",
              "dst_host_rerror_rate           5.317152e-02\n",
              "dst_host_srv_rerror_rate       5.296457e-02\n",
              "dtype: float64"
            ]
          },
          "metadata": {
            "tags": []
          },
          "execution_count": 8
        }
      ]
    },
    {
      "cell_type": "markdown",
      "metadata": {
        "id": "UxScYvOVDqTo"
      },
      "source": [
        "As we see, some features have very little variance. We remove them because we believe they do not contribute to our learning model"
      ]
    },
    {
      "cell_type": "code",
      "metadata": {
        "id": "5tx398Uvs0kV"
      },
      "source": [
        "# ================================================================\n",
        "# We return the number of non-object features below the  threshold\n",
        "# ----------------------------------------------------------------\n",
        "# We could have used VarianceThreshold module instead,  yet we did\n",
        "# it anyhow.\n",
        "# ================================================================\n",
        "def colBelowThre(data,threshold):\n",
        "  belowThre = []\n",
        "  for col in list(data.columns):\n",
        "    if data.dtypes[col] !='object' and data[col].var()<=threshold:\n",
        "      belowThre.append(col)\n",
        "  return belowThre"
      ],
      "execution_count": 9,
      "outputs": []
    },
    {
      "cell_type": "code",
      "metadata": {
        "colab": {
          "base_uri": "https://localhost:8080/"
        },
        "id": "PXpQbnXruSgn",
        "outputId": "a97d108c-7d13-40d8-d339-c6bc0c559e05"
      },
      "source": [
        "# ================================================================\n",
        "# Print the features whose variance is below the threshold\n",
        "# ================================================================\n",
        "threshold = 0.1\n",
        "belowThre = colBelowThre(data10,threshold)\n",
        "for col in belowThre:\n",
        "  print(col)\n",
        "  print(data10[col].value_counts()/len(data10))\n",
        "  print('\\n')\n",
        "print(\"The number of features: \"+str(len(belowThre)))"
      ],
      "execution_count": 10,
      "outputs": [
        {
          "output_type": "stream",
          "text": [
            "land\n",
            "0    0.999955\n",
            "1    0.000045\n",
            "Name: land, dtype: float64\n",
            "\n",
            "\n",
            "wrong_fragment\n",
            "0    0.997494\n",
            "3    0.001963\n",
            "1    0.000542\n",
            "Name: wrong_fragment, dtype: float64\n",
            "\n",
            "\n",
            "urgent\n",
            "0    0.999992\n",
            "1    0.000004\n",
            "3    0.000002\n",
            "2    0.000002\n",
            "Name: urgent, dtype: float64\n",
            "\n",
            "\n",
            "num_failed_logins\n",
            "0    0.999872\n",
            "1    0.000115\n",
            "2    0.000006\n",
            "5    0.000002\n",
            "4    0.000002\n",
            "3    0.000002\n",
            "Name: num_failed_logins, dtype: float64\n",
            "\n",
            "\n",
            "root_shell\n",
            "0    0.999889\n",
            "1    0.000111\n",
            "Name: root_shell, dtype: float64\n",
            "\n",
            "\n",
            "su_attempted\n",
            "0    0.999976\n",
            "2    0.000012\n",
            "1    0.000012\n",
            "Name: su_attempted, dtype: float64\n",
            "\n",
            "\n",
            "num_file_creations\n",
            "0     0.999464\n",
            "1     0.000419\n",
            "2     0.000073\n",
            "4     0.000014\n",
            "16    0.000004\n",
            "9     0.000002\n",
            "5     0.000002\n",
            "7     0.000002\n",
            "8     0.000002\n",
            "28    0.000002\n",
            "25    0.000002\n",
            "12    0.000002\n",
            "14    0.000002\n",
            "15    0.000002\n",
            "20    0.000002\n",
            "21    0.000002\n",
            "22    0.000002\n",
            "10    0.000002\n",
            "Name: num_file_creations, dtype: float64\n",
            "\n",
            "\n",
            "num_shells\n",
            "0    0.999897\n",
            "1    0.000097\n",
            "2    0.000006\n",
            "Name: num_shells, dtype: float64\n",
            "\n",
            "\n",
            "num_access_files\n",
            "0    0.999081\n",
            "1    0.000858\n",
            "2    0.000051\n",
            "3    0.000004\n",
            "8    0.000002\n",
            "6    0.000002\n",
            "4    0.000002\n",
            "Name: num_access_files, dtype: float64\n",
            "\n",
            "\n",
            "num_outbound_cmds\n",
            "0    1.0\n",
            "Name: num_outbound_cmds, dtype: float64\n",
            "\n",
            "\n",
            "is_host_login\n",
            "0    1.0\n",
            "Name: is_host_login, dtype: float64\n",
            "\n",
            "\n",
            "is_guest_login\n",
            "0    0.998613\n",
            "1    0.001387\n",
            "Name: is_guest_login, dtype: float64\n",
            "\n",
            "\n",
            "rerror_rate\n",
            "0.00    0.941150\n",
            "1.00    0.054611\n",
            "0.86    0.000229\n",
            "0.87    0.000206\n",
            "0.92    0.000196\n",
            "          ...   \n",
            "0.26    0.000002\n",
            "0.36    0.000002\n",
            "0.34    0.000002\n",
            "0.66    0.000002\n",
            "0.32    0.000002\n",
            "Name: rerror_rate, Length: 77, dtype: float64\n",
            "\n",
            "\n",
            "srv_rerror_rate\n",
            "0.00    0.939879\n",
            "1.00    0.056913\n",
            "0.33    0.000510\n",
            "0.50    0.000407\n",
            "0.25    0.000350\n",
            "0.20    0.000289\n",
            "0.17    0.000259\n",
            "0.14    0.000148\n",
            "0.04    0.000128\n",
            "0.03    0.000123\n",
            "0.12    0.000115\n",
            "0.02    0.000109\n",
            "0.06    0.000109\n",
            "0.05    0.000083\n",
            "0.07    0.000073\n",
            "0.40    0.000061\n",
            "0.67    0.000057\n",
            "0.08    0.000057\n",
            "0.11    0.000053\n",
            "0.29    0.000051\n",
            "0.09    0.000049\n",
            "0.10    0.000032\n",
            "0.75    0.000022\n",
            "0.60    0.000022\n",
            "0.01    0.000012\n",
            "0.22    0.000008\n",
            "0.71    0.000008\n",
            "0.86    0.000006\n",
            "0.83    0.000006\n",
            "0.73    0.000004\n",
            "0.81    0.000004\n",
            "0.88    0.000004\n",
            "0.96    0.000004\n",
            "0.92    0.000004\n",
            "0.18    0.000004\n",
            "0.43    0.000004\n",
            "0.79    0.000004\n",
            "0.93    0.000002\n",
            "0.13    0.000002\n",
            "0.27    0.000002\n",
            "0.38    0.000002\n",
            "0.94    0.000002\n",
            "0.95    0.000002\n",
            "0.37    0.000002\n",
            "0.85    0.000002\n",
            "0.80    0.000002\n",
            "0.62    0.000002\n",
            "0.82    0.000002\n",
            "0.69    0.000002\n",
            "0.21    0.000002\n",
            "0.87    0.000002\n",
            "Name: srv_rerror_rate, dtype: float64\n",
            "\n",
            "\n",
            "diff_srv_rate\n",
            "0.00    0.773289\n",
            "0.06    0.106902\n",
            "0.07    0.058293\n",
            "0.05    0.038901\n",
            "0.08    0.006587\n",
            "          ...   \n",
            "0.64    0.000002\n",
            "0.73    0.000002\n",
            "0.82    0.000002\n",
            "0.88    0.000002\n",
            "0.86    0.000002\n",
            "Name: diff_srv_rate, Length: 78, dtype: float64\n",
            "\n",
            "\n",
            "srv_diff_host_rate\n",
            "0.00    0.929873\n",
            "1.00    0.016394\n",
            "0.12    0.003053\n",
            "0.50    0.002870\n",
            "0.67    0.002854\n",
            "          ...   \n",
            "0.88    0.000004\n",
            "0.64    0.000004\n",
            "0.46    0.000004\n",
            "0.70    0.000002\n",
            "0.77    0.000002\n",
            "Name: srv_diff_host_rate, Length: 64, dtype: float64\n",
            "\n",
            "\n",
            "dst_host_diff_srv_rate\n",
            "0.00    0.702462\n",
            "0.07    0.092956\n",
            "0.06    0.057131\n",
            "0.05    0.037379\n",
            "0.08    0.029432\n",
            "          ...   \n",
            "0.96    0.000022\n",
            "0.94    0.000020\n",
            "0.93    0.000016\n",
            "0.92    0.000014\n",
            "0.99    0.000012\n",
            "Name: dst_host_diff_srv_rate, Length: 101, dtype: float64\n",
            "\n",
            "\n",
            "dst_host_srv_diff_host_rate\n",
            "0.00    0.894474\n",
            "0.02    0.023760\n",
            "0.01    0.021315\n",
            "0.04    0.013508\n",
            "0.03    0.013408\n",
            "          ...   \n",
            "0.70    0.000002\n",
            "0.47    0.000002\n",
            "0.62    0.000002\n",
            "0.75    0.000002\n",
            "0.58    0.000002\n",
            "Name: dst_host_srv_diff_host_rate, Length: 65, dtype: float64\n",
            "\n",
            "\n",
            "dst_host_rerror_rate\n",
            "0.00    0.928689\n",
            "1.00    0.052710\n",
            "0.01    0.003231\n",
            "0.02    0.001887\n",
            "0.04    0.001621\n",
            "          ...   \n",
            "0.66    0.000038\n",
            "0.34    0.000036\n",
            "0.46    0.000030\n",
            "0.39    0.000028\n",
            "0.79    0.000026\n",
            "Name: dst_host_rerror_rate, Length: 101, dtype: float64\n",
            "\n",
            "\n",
            "dst_host_srv_rerror_rate\n",
            "0.00    0.930740\n",
            "1.00    0.052012\n",
            "0.01    0.003747\n",
            "0.04    0.001680\n",
            "0.02    0.001585\n",
            "          ...   \n",
            "0.14    0.000012\n",
            "0.32    0.000010\n",
            "0.22    0.000008\n",
            "0.28    0.000008\n",
            "0.26    0.000008\n",
            "Name: dst_host_srv_rerror_rate, Length: 101, dtype: float64\n",
            "\n",
            "\n",
            "The number of features: 20\n"
          ],
          "name": "stdout"
        }
      ]
    },
    {
      "cell_type": "code",
      "metadata": {
        "id": "boRGkBNR9nUt"
      },
      "source": [
        "# ================================================================\n",
        "# Delete the below threshold features\n",
        "# ================================================================\n",
        "data10Mod = data10.copy()\n",
        "dataTstMod= testCorrect.copy()\n",
        "datasets = [data10Mod,dataTstMod]\n",
        "for d in datasets:\n",
        "  for col in belowThre:\n",
        "    del d[col]\n",
        "# ================================================================\n",
        "# Delete having 0 variance in the original data\n",
        "# ================================================================\n",
        "datasets = [data10,testCorrect]\n",
        "zeroVar = colBelowThre(data10,0)\n",
        "for d in datasets:\n",
        "  for col in zeroVar:\n",
        "    del d[col]"
      ],
      "execution_count": 11,
      "outputs": []
    },
    {
      "cell_type": "code",
      "metadata": {
        "colab": {
          "base_uri": "https://localhost:8080/"
        },
        "id": "qCnUmnGfysos",
        "outputId": "5eddf581-689f-4db1-a4ad-a806511ad534"
      },
      "source": [
        "# ================================================================\n",
        "# Show the differences in the number of features:\n",
        "# ================================================================\n",
        "print(\"Original features [10%]: \"+str(len(data10.columns)))\n",
        "print(\"Selected features [10%]: \"+str(len(data10Mod.columns)))\n",
        "print(\"Original features [new]: \"+str(len(testCorrect.columns)))\n",
        "print(\"Selected features [new]: \"+str(len(dataTstMod.columns)))\n",
        "print(\"Number of removed features: \"+str(len(belowThre)))"
      ],
      "execution_count": 12,
      "outputs": [
        {
          "output_type": "stream",
          "text": [
            "Original features [10%]: 40\n",
            "Selected features [10%]: 22\n",
            "Original features [new]: 40\n",
            "Selected features [new]: 22\n",
            "Number of removed features: 20\n"
          ],
          "name": "stdout"
        }
      ]
    },
    {
      "cell_type": "markdown",
      "metadata": {
        "id": "4urCrd3hHHDw"
      },
      "source": [
        "#### Using Correlation"
      ]
    },
    {
      "cell_type": "code",
      "metadata": {
        "id": "1RmUXbL2z_dn"
      },
      "source": [
        "# ================================================================\n",
        "# Define a function to plot the heatmap\n",
        "# ================================================================\n",
        "def plotHeatmap(data):\n",
        "  corr = data.corr()\n",
        "  plt.figure(figsize=(15,12))\n",
        "  sns.heatmap(corr)\n",
        "  plt.show()"
      ],
      "execution_count": 13,
      "outputs": []
    },
    {
      "cell_type": "code",
      "metadata": {
        "colab": {
          "base_uri": "https://localhost:8080/",
          "height": 838
        },
        "id": "LV4jjgDF13-k",
        "outputId": "8dfb43e9-9b41-43d7-e3f3-7560d6522fd3"
      },
      "source": [
        "# ================================================================\n",
        "# Plotting the  correlation heatmap  of both the modified and ori-\n",
        "# ginal\n",
        "# ================================================================\n",
        "plotHeatmap(data10)"
      ],
      "execution_count": 14,
      "outputs": [
        {
          "output_type": "display_data",
          "data": {
            "image/png": "[encoded data removed]",
            "text/plain": [
              "<Figure size 1080x864 with 2 Axes>"
            ]
          },
          "metadata": {
            "tags": [],
            "needs_background": "light"
          }
        }
      ]
    },
    {
      "cell_type": "code",
      "metadata": {
        "colab": {
          "base_uri": "https://localhost:8080/",
          "height": 838
        },
        "id": "iNBEdSBd2ih3",
        "outputId": "e408d2f1-4949-4f61-c0e7-26c49cf140d0"
      },
      "source": [
        "plotHeatmap(data10Mod)"
      ],
      "execution_count": 15,
      "outputs": [
        {
          "output_type": "display_data",
          "data": {
            "image/png": "[encoded data removed]",
            "text/plain": [
              "<Figure size 1080x864 with 2 Axes>"
            ]
          },
          "metadata": {
            "tags": [],
            "needs_background": "light"
          }
        }
      ]
    },
    {
      "cell_type": "code",
      "metadata": {
        "id": "_ksF2FNVHm3-"
      },
      "source": [
        "# ================================================================\n",
        "# Now, as we see we would like to further remove these  correlated\n",
        "# features.\n",
        "# ================================================================\n",
        "def getCorrelated(data,threshold):\n",
        "  # ==============================================================\n",
        "  # compute the absolute correlation matrix. Notice we do not care\n",
        "  # about the sign of the correlation. We only care whether a fea-\n",
        "  # ture provides information about another feature or not.\n",
        "  # ==============================================================\n",
        "  corrMat = data.corr().abs()\n",
        "  # ==============================================================\n",
        "  # We compute get the upper triangular form of the matrix,  so as\n",
        "  # to discard the duplicated data\n",
        "  # ==============================================================\n",
        "  upper = corrMat.where(np.triu(np.ones(corrMat.shape), \n",
        "                                k=1).astype(np.bool))\n",
        "  # ==============================================================\n",
        "  # Loop over the columns/rows and add the column that has a value\n",
        "  # above the threshold\n",
        "  # ==============================================================\n",
        "  return [col for col in upper.columns if any(\n",
        "      upper[col] >= threshold)]"
      ],
      "execution_count": 16,
      "outputs": []
    },
    {
      "cell_type": "code",
      "metadata": {
        "id": "oIIEnp5ZNHwP"
      },
      "source": [
        "threshold = 0.9\n",
        "corrColumn = getCorrelated(data10Mod,threshold)\n",
        "datasets = [data10Mod,dataTstMod]\n",
        "for d in datasets:\n",
        "  for col in corrColumn:\n",
        "    del d[col]"
      ],
      "execution_count": 17,
      "outputs": []
    },
    {
      "cell_type": "code",
      "metadata": {
        "colab": {
          "base_uri": "https://localhost:8080/"
        },
        "id": "KXpJGDAsOtFR",
        "outputId": "d14afe88-4ef8-47f5-a9f2-2702d937d92f"
      },
      "source": [
        "# ================================================================\n",
        "# Print the number of removed columns and the new shapes\n",
        "# ================================================================\n",
        "print(\"Number of removed columns: \"+str(len(corrColumn)))\n",
        "print(\"Correlated columns:\",corrColumn)\n",
        "print(data10Mod.shape)\n",
        "print(dataTstMod.shape)"
      ],
      "execution_count": 18,
      "outputs": [
        {
          "output_type": "stream",
          "text": [
            "Number of removed columns: 7\n",
            "Correlated columns: ['num_root', 'srv_count', 'srv_serror_rate', 'dst_host_same_srv_rate', 'dst_host_same_src_port_rate', 'dst_host_serror_rate', 'dst_host_srv_serror_rate']\n",
            "(494021, 15)\n",
            "(311029, 15)\n"
          ],
          "name": "stdout"
        }
      ]
    },
    {
      "cell_type": "code",
      "metadata": {
        "colab": {
          "base_uri": "https://localhost:8080/",
          "height": 790
        },
        "id": "t0M7DaChPGP3",
        "outputId": "7802ec7d-b03b-4efb-9f92-4518fcbbf491"
      },
      "source": [
        "# ================================================================\n",
        "# Show the heatmap of the correlation\n",
        "# ================================================================\n",
        "plotHeatmap(data10Mod)"
      ],
      "execution_count": 19,
      "outputs": [
        {
          "output_type": "display_data",
          "data": {
            "image/png": "[encoded data removed]",
            "text/plain": [
              "<Figure size 1080x864 with 2 Axes>"
            ]
          },
          "metadata": {
            "tags": [],
            "needs_background": "light"
          }
        }
      ]
    },
    {
      "cell_type": "markdown",
      "metadata": {
        "id": "-8ljjWLys7y-"
      },
      "source": [
        "### New attacks records\n",
        "While testing we would like also to check the performance of our model in the unseen attacks; therefore, we copy them as below."
      ]
    },
    {
      "cell_type": "code",
      "metadata": {
        "colab": {
          "base_uri": "https://localhost:8080/"
        },
        "id": "idOWl1AutG82",
        "outputId": "a05ab823-ebd9-4c95-a433-c9a6873d96c6"
      },
      "source": [
        "newRecords = testCorrect.loc[testCorrect['label'].isin(\n",
        "                            newAttacks)].copy()\n",
        "newMod = dataTstMod.loc[dataTstMod['label'].isin(\n",
        "                            newAttacks)].copy()\n",
        "print(newRecords.shape)\n",
        "print(newMod.shape)"
      ],
      "execution_count": 20,
      "outputs": [
        {
          "output_type": "stream",
          "text": [
            "(18729, 40)\n",
            "(18729, 15)\n"
          ],
          "name": "stdout"
        }
      ]
    },
    {
      "cell_type": "code",
      "metadata": {
        "colab": {
          "base_uri": "https://localhost:8080/"
        },
        "id": "y2D9aNwgtlde",
        "outputId": "28c4809f-01fd-4ffa-f79b-fa5d92d8bb0e"
      },
      "source": [
        "# ================================================================\n",
        "# Make sure  it equals the  new ones.\n",
        "# ================================================================\n",
        "print('Equal new attacks:',set(newRecords.label.unique()\n",
        "                              ) == newAttacks)\n",
        "print('Equal new attacks:',set(newMod.label.unique()\n",
        "                              ) == newAttacks)"
      ],
      "execution_count": 21,
      "outputs": [
        {
          "output_type": "stream",
          "text": [
            "Equal new attacks: True\n",
            "Equal new attacks: True\n"
          ],
          "name": "stdout"
        }
      ]
    },
    {
      "cell_type": "markdown",
      "metadata": {
        "id": "eDl3b4OMupHY"
      },
      "source": [
        "### Replicating Datasets\n",
        "As we are about to label the values to train it with our model, we copy it first."
      ]
    },
    {
      "cell_type": "code",
      "metadata": {
        "id": "wY5RaSLju7q2"
      },
      "source": [
        "dTrain = data10.copy()\n",
        "dTest  = testCorrect.copy()\n",
        "dNewTst= newRecords.copy()\n",
        "\n",
        "dTrainM = data10Mod.copy()\n",
        "dTestM  = dataTstMod.copy()\n",
        "dNewTstM= newMod.copy()"
      ],
      "execution_count": 22,
      "outputs": []
    },
    {
      "cell_type": "markdown",
      "metadata": {
        "id": "2DK01pL2v9zV"
      },
      "source": [
        "### Categorical Features [Label Encoding]\n",
        "Notice we have some categorical features like `protocol_type,service,` and `flag`. Nevertheless, because we will use a **tree-based** model (Random Forest), we do encode the values using **label encoding**, as it would not affect the training of our model. In case, we are using Neural Network, for example, we might have used one of the below techniques:\n",
        "- Embedding\n",
        "- Dummy encoding\n"
      ]
    },
    {
      "cell_type": "code",
      "metadata": {
        "colab": {
          "base_uri": "https://localhost:8080/"
        },
        "id": "Z_T4UnJ7PTyx",
        "outputId": "8231aacd-d4c5-4604-fe4b-2df178f5a9ca"
      },
      "source": [
        "# ================================================================\n",
        "# Get the indices of categorical features\n",
        "# ================================================================\n",
        "objList = list(testCorrect.select_dtypes(\n",
        "                include = \"object\").columns)[:-1]\n",
        "print(objList)"
      ],
      "execution_count": 23,
      "outputs": [
        {
          "output_type": "stream",
          "text": [
            "['protocol_type', 'service', 'flag']\n"
          ],
          "name": "stdout"
        }
      ]
    },
    {
      "cell_type": "code",
      "metadata": {
        "id": "Xdx70GCkReEO"
      },
      "source": [
        "# ================================================================\n",
        "# Store the size of original dataset\n",
        "# ================================================================\n",
        "s1 = len(dTrain)\n",
        "s2 = len(dTest)\n",
        "s3 = len(dNewTst)\n",
        "# ================================================================\n",
        "# Merge the two datasets to label them uniquely.\n",
        "# ----------------------------------------------------------------\n",
        "# Note if we labeled  them indiviually, an item  'A' might have  a\n",
        "# label 0 in one dataset and 2 in another.  This will make it  in-\n",
        "# appropriate to test the model on the other dataset.\n",
        "# ================================================================\n",
        "data = dTrain.append(dTest).append(dNewTst)\n",
        "data2= dTrainM.append(dTestM).append(dNewTstM)"
      ],
      "execution_count": 24,
      "outputs": []
    },
    {
      "cell_type": "code",
      "metadata": {
        "id": "gWJObWbTRcRb"
      },
      "source": [
        "# ================================================================\n",
        "# Create label encoding, to train it later on\n",
        "# ================================================================\n",
        "le = LabelEncoder()\n",
        "for feature in objList:\n",
        "  data[feature] = le.fit_transform(data[feature])\n",
        "  data2[feature] = le.fit_transform(data2[feature])"
      ],
      "execution_count": 25,
      "outputs": []
    },
    {
      "cell_type": "code",
      "metadata": {
        "id": "NJuDTiNETFXj"
      },
      "source": [
        "# ================================================================\n",
        "# Split them again\n",
        "# ================================================================\n",
        "dTrain = data.iloc[:s1,:].copy()\n",
        "dTest  = data.iloc[s1:(s1+s2),:].copy()\n",
        "dNewTst= data.iloc[(s1+s2):,:].copy()\n",
        "\n",
        "dTrainM = data2.iloc[:s1,:].copy()\n",
        "dTestM  = data2.iloc[s1:(s1+s2),:].copy()\n",
        "dNewTstM= data2.iloc[(s1+s2):,:].copy()"
      ],
      "execution_count": 26,
      "outputs": []
    },
    {
      "cell_type": "markdown",
      "metadata": {
        "id": "IC4DL8ty0TZQ"
      },
      "source": [
        "## Training [Malicious vs Normal]\n",
        "Now, we will train our model using all the features to detect whether a record is normal or malicious. Therefore, we first encode the labels into $0,1$"
      ]
    },
    {
      "cell_type": "code",
      "metadata": {
        "id": "3MNBI9MO_UAp"
      },
      "source": [
        "# ================================================================\n",
        "# Encode the labels into 0 for normal, 1 otherwise\n",
        "# ================================================================\n",
        "datasets = [dTrain,dTest,dNewTst,dTrainM,dTestM,dNewTstM]\n",
        "for d in datasets:\n",
        "  d['label'] = d['label'].map(lambda x: 0 if x =='normal.' else 1)"
      ],
      "execution_count": 27,
      "outputs": []
    },
    {
      "cell_type": "code",
      "metadata": {
        "colab": {
          "base_uri": "https://localhost:8080/"
        },
        "id": "9OEEd6D3_TyU",
        "outputId": "091317ae-efb7-4386-c0e9-d198c095bcfd"
      },
      "source": [
        "print(dTrain.label.value_counts()/len(dTrain))\n",
        "print(dTest.label.value_counts()/len(dTest))\n",
        "print(dNewTst.label.value_counts()/len(dNewTst))\n",
        "\n",
        "print(dTrainM.label.value_counts()/len(dTrainM))\n",
        "print(dTestM.label.value_counts()/len(dTestM))\n",
        "print(dNewTstM.label.value_counts()/len(dNewTstM))"
      ],
      "execution_count": 28,
      "outputs": [
        {
          "output_type": "stream",
          "text": [
            "1    0.803089\n",
            "0    0.196911\n",
            "Name: label, dtype: float64\n",
            "1    0.805185\n",
            "0    0.194815\n",
            "Name: label, dtype: float64\n",
            "1    1.0\n",
            "Name: label, dtype: float64\n",
            "1    0.803089\n",
            "0    0.196911\n",
            "Name: label, dtype: float64\n",
            "1    0.805185\n",
            "0    0.194815\n",
            "Name: label, dtype: float64\n",
            "1    1.0\n",
            "Name: label, dtype: float64\n"
          ],
          "name": "stdout"
        }
      ]
    },
    {
      "cell_type": "code",
      "metadata": {
        "id": "sHnLrJYM-Yw_"
      },
      "source": [
        "# ================================================================\n",
        "# The function splits the features from the target\n",
        "# ================================================================\n",
        "def splitTarget(df):\n",
        "  colNum = len(df.columns)\n",
        "  return df.iloc[:,colNum-1].copy(),df.iloc[:,0:colNum-1].copy()"
      ],
      "execution_count": 29,
      "outputs": []
    },
    {
      "cell_type": "code",
      "metadata": {
        "id": "lYN7woN4TcZV"
      },
      "source": [
        "# ================================================================\n",
        "# Split the data from the target label\n",
        "# ================================================================\n",
        "y,x = splitTarget(dTrain)\n",
        "yT,xT = splitTarget(dTest)\n",
        "yN,xN = splitTarget(dNewTst)\n",
        "# ================================================================\n",
        "# Split the modified features\n",
        "# ================================================================\n",
        "y2,x2 = splitTarget(dTrainM)\n",
        "yT2,xT2 = splitTarget(dTestM)\n",
        "yN2,xN2 = splitTarget(dNewTstM)"
      ],
      "execution_count": 30,
      "outputs": []
    },
    {
      "cell_type": "code",
      "metadata": {
        "id": "hxXZTl5-DKUk"
      },
      "source": [
        "# ================================================================\n",
        "# Split the training features to have 30% for testing and  70% for\n",
        "# training.\n",
        "# ================================================================\n",
        "x_train,x_test,y_train,y_test = train_test_split(x,y, \n",
        "                                                 test_size = 0.30)\n",
        "x_train2,x_test2,y_train2,y_test2 = train_test_split(x2,y2, \n",
        "                                                 test_size = 0.30) "
      ],
      "execution_count": 31,
      "outputs": []
    },
    {
      "cell_type": "code",
      "metadata": {
        "colab": {
          "base_uri": "https://localhost:8080/"
        },
        "id": "uFpHiFN7DrUZ",
        "outputId": "27506d0e-e62f-421c-d127-f09485974df3"
      },
      "source": [
        "# ================================================================\n",
        "# Train our model based on the training part from the \n",
        "# ================================================================\n",
        "rf = RandomForestClassifier(n_estimators = 100,n_jobs=-1,verbose=0)\n",
        "rf.fit(x_train, y_train)"
      ],
      "execution_count": 32,
      "outputs": [
        {
          "output_type": "execute_result",
          "data": {
            "text/plain": [
              "RandomForestClassifier(bootstrap=True, ccp_alpha=0.0, class_weight=None,\n",
              "                       criterion='gini', max_depth=None, max_features='auto',\n",
              "                       max_leaf_nodes=None, max_samples=None,\n",
              "                       min_impurity_decrease=0.0, min_impurity_split=None,\n",
              "                       min_samples_leaf=1, min_samples_split=2,\n",
              "                       min_weight_fraction_leaf=0.0, n_estimators=100,\n",
              "                       n_jobs=-1, oob_score=False, random_state=None, verbose=0,\n",
              "                       warm_start=False)"
            ]
          },
          "metadata": {
            "tags": []
          },
          "execution_count": 32
        }
      ]
    },
    {
      "cell_type": "code",
      "metadata": {
        "colab": {
          "base_uri": "https://localhost:8080/"
        },
        "id": "WGrjQHet7A47",
        "outputId": "13098f17-de20-478a-a325-dabb63db4b84"
      },
      "source": [
        "# ================================================================\n",
        "# Train on the slected features only\n",
        "# ================================================================\n",
        "rf2 = RandomForestClassifier(n_estimators = 100,n_jobs=-1,verbose=0)\n",
        "rf2.fit(x_train2, y_train2)"
      ],
      "execution_count": 33,
      "outputs": [
        {
          "output_type": "execute_result",
          "data": {
            "text/plain": [
              "RandomForestClassifier(bootstrap=True, ccp_alpha=0.0, class_weight=None,\n",
              "                       criterion='gini', max_depth=None, max_features='auto',\n",
              "                       max_leaf_nodes=None, max_samples=None,\n",
              "                       min_impurity_decrease=0.0, min_impurity_split=None,\n",
              "                       min_samples_leaf=1, min_samples_split=2,\n",
              "                       min_weight_fraction_leaf=0.0, n_estimators=100,\n",
              "                       n_jobs=-1, oob_score=False, random_state=None, verbose=0,\n",
              "                       warm_start=False)"
            ]
          },
          "metadata": {
            "tags": []
          },
          "execution_count": 33
        }
      ]
    },
    {
      "cell_type": "markdown",
      "metadata": {
        "id": "e7VoTYnT6Glm"
      },
      "source": [
        "### Model Accuracy"
      ]
    },
    {
      "cell_type": "code",
      "metadata": {
        "colab": {
          "base_uri": "https://localhost:8080/"
        },
        "id": "aLVZ9GX6C5hy",
        "outputId": "4083c9f9-0231-456c-e24c-a9365d88e1c5"
      },
      "source": [
        "print(\"::::Using all the features::::\")\n",
        "y_pred = rf.predict(x_test)\n",
        "print(\"Accuracy [d1]: \", metrics.accuracy_score(y_test, y_pred))\n",
        "y_pred = rf.predict(xT)\n",
        "print(\"Accuracy [d2]: \", metrics.accuracy_score(yT, y_pred))\n",
        "y_pred = rf.predict(xN)\n",
        "print(\"Accuracy [d3]: \", metrics.accuracy_score(yN, y_pred))\n",
        "print(\"\\n::::Using the selected features::::\")\n",
        "y_pred = rf2.predict(x_test2)\n",
        "print(\"Accuracy [d1]: \", metrics.accuracy_score(y_test2, y_pred))\n",
        "y_pred = rf2.predict(xT2)\n",
        "print(\"Accuracy [d2]: \", metrics.accuracy_score(yT2, y_pred))\n",
        "y_pred = rf2.predict(xN2)\n",
        "print(\"Accuracy [d3]: \", metrics.accuracy_score(yN2, y_pred))"
      ],
      "execution_count": 34,
      "outputs": [
        {
          "output_type": "stream",
          "text": [
            "::::Using all the features::::\n",
            "Accuracy [d1]:  0.999804327730809\n",
            "Accuracy [d2]:  0.9280452948117378\n",
            "Accuracy [d3]:  0.09285065940520049\n",
            "\n",
            "::::Using the selected features::::\n",
            "Accuracy [d1]:  0.999804327730809\n",
            "Accuracy [d2]:  0.9266113449228207\n",
            "Accuracy [d3]:  0.11105771797746809\n"
          ],
          "name": "stdout"
        }
      ]
    },
    {
      "cell_type": "markdown",
      "metadata": {
        "id": "cK8rXW_X6O_k"
      },
      "source": [
        "### Model F-Score\n"
      ]
    },
    {
      "cell_type": "code",
      "metadata": {
        "colab": {
          "base_uri": "https://localhost:8080/"
        },
        "id": "4hzpM8fYVIqz",
        "outputId": "8fd008cc-fda0-4fe7-a8d1-fc3e4dda1409"
      },
      "source": [
        "print(\"::::Using all the features::::\")\n",
        "y_pred = rf.predict(x_test)\n",
        "print(\"F-Score [d1]: \", metrics.f1_score(y_test, y_pred))\n",
        "y_pred = rf.predict(xT)\n",
        "print(\"F-Score [d2]: \", metrics.f1_score(yT, y_pred))\n",
        "y_pred = rf.predict(xN)\n",
        "print(\"F-Score [d3]: \", metrics.f1_score(yN, y_pred))\n",
        "print(\"\\n::::Using the selected features::::\")\n",
        "y_pred = rf2.predict(x_test2)\n",
        "print(\"F-Score [d1]: \", metrics.f1_score(y_test2, y_pred))\n",
        "y_pred = rf2.predict(xT2)\n",
        "print(\"F-Score [d2]: \", metrics.f1_score(yT2, y_pred))\n",
        "y_pred = rf2.predict(xN2)\n",
        "print(\"F-Score [d3]: \", metrics.f1_score(yN2, y_pred))"
      ],
      "execution_count": 35,
      "outputs": [
        {
          "output_type": "stream",
          "text": [
            "::::Using all the features::::\n",
            "F-Score [d1]:  0.9998780728787834\n",
            "F-Score [d2]:  0.9532860488513544\n",
            "F-Score [d3]:  0.16992378346687512\n",
            "\n",
            "::::Using the selected features::::\n",
            "F-Score [d1]:  0.9998781988550692\n",
            "F-Score [d2]:  0.9523204759179342\n",
            "F-Score [d3]:  0.1999134989667932\n"
          ],
          "name": "stdout"
        }
      ]
    },
    {
      "cell_type": "markdown",
      "metadata": {
        "id": "O1fkyK3i2twX"
      },
      "source": [
        "### Confusion Matrix\n",
        "Below, we plot the confusion matrix"
      ]
    },
    {
      "cell_type": "code",
      "metadata": {
        "id": "PrahPpbRXsyG"
      },
      "source": [
        "def normRow(mat):\n",
        "  return mat/np.sum(mat,axis=1,keepdims=True)\n",
        "# ================================================================\n",
        "# Confusion matrix of testing\n",
        "# ================================================================\n",
        "def plotConfMat(yTrue,yPred,title,norm=False):\n",
        "  confMat = metrics.confusion_matrix(y_true=yTrue,y_pred= yPred)\n",
        "  if norm:\n",
        "    # ============================================================\n",
        "    # We normalize the confMat if wanted\n",
        "    # ============================================================\n",
        "    confMat = normRow(confMat)\n",
        "    title += \" (Normalized)\"\n",
        "  plt.figure(figsize=(15,12))\n",
        "  sns.heatmap(confMat,annot=True)\n",
        "  plt.xlabel('Predicted',fontsize='xx-large')\n",
        "  plt.ylabel('True',fontsize='xx-large')\n",
        "  plt.title(title,fontsize='xx-large')\n",
        "  plt.show()"
      ],
      "execution_count": 36,
      "outputs": []
    },
    {
      "cell_type": "code",
      "metadata": {
        "colab": {
          "base_uri": "https://localhost:8080/",
          "height": 742
        },
        "id": "qxF05XaH0lwC",
        "outputId": "407224c5-15bb-425d-e3d4-2025b15d9d20"
      },
      "source": [
        "y_pred = rf.predict(x_test)\n",
        "plotConfMat(y_test,y_pred,\"Confusion Matrix of d1\")"
      ],
      "execution_count": 37,
      "outputs": [
        {
          "output_type": "display_data",
          "data": {
            "image/png": "[encoded data removed]",
            "text/plain": [
              "<Figure size 1080x864 with 2 Axes>"
            ]
          },
          "metadata": {
            "tags": [],
            "needs_background": "light"
          }
        }
      ]
    },
    {
      "cell_type": "code",
      "metadata": {
        "colab": {
          "base_uri": "https://localhost:8080/",
          "height": 742
        },
        "id": "i7GrgrojsXMU",
        "outputId": "bb1b37bb-6882-47b3-bded-0eb7a4043cf5"
      },
      "source": [
        "plotConfMat(y_test,y_pred,\"Confusion Matrix of d1\",True)"
      ],
      "execution_count": 38,
      "outputs": [
        {
          "output_type": "display_data",
          "data": {
            "image/png": "[encoded data removed]",
            "text/plain": [
              "<Figure size 1080x864 with 2 Axes>"
            ]
          },
          "metadata": {
            "tags": [],
            "needs_background": "light"
          }
        }
      ]
    },
    {
      "cell_type": "code",
      "metadata": {
        "colab": {
          "base_uri": "https://localhost:8080/",
          "height": 742
        },
        "id": "R2Bt1y6vwWl0",
        "outputId": "4cbff452-e6fb-4823-e012-7e47de0e30ba"
      },
      "source": [
        "y_pred = rf.predict(xT)\n",
        "plotConfMat(yT,y_pred,\"Confusion Matrix of d2\",True)"
      ],
      "execution_count": 39,
      "outputs": [
        {
          "output_type": "display_data",
          "data": {
            "image/png": "[encoded data removed]",
            "text/plain": [
              "<Figure size 1080x864 with 2 Axes>"
            ]
          },
          "metadata": {
            "tags": [],
            "needs_background": "light"
          }
        }
      ]
    },
    {
      "cell_type": "code",
      "metadata": {
        "colab": {
          "base_uri": "https://localhost:8080/",
          "height": 763
        },
        "id": "WFrnI2kU34yK",
        "outputId": "f29b5175-23c1-4000-9e29-c429732ccdc8"
      },
      "source": [
        "y_pred2 = rf2.predict(xT2)\n",
        "plotConfMat(yT2,y_pred2,\"Using selected features\\nConfusion Matrix of d2\",True)"
      ],
      "execution_count": 40,
      "outputs": [
        {
          "output_type": "display_data",
          "data": {
            "image/png": "[encoded data removed]",
            "text/plain": [
              "<Figure size 1080x864 with 2 Axes>"
            ]
          },
          "metadata": {
            "tags": [],
            "needs_background": "light"
          }
        }
      ]
    },
    {
      "cell_type": "markdown",
      "metadata": {
        "id": "OeHoH4LYQZGm"
      },
      "source": [
        "## Training [Categories]\n",
        "Now, we will train our model using all the features to detect whether a record lies in the below categories as below:\n",
        "\n",
        "<table style=\"width: 80%\">\n",
        "  <tr>\n",
        "    <th>Category</th>\n",
        "    <th>Attack Name</th>\n",
        "    <th>Category</th>\n",
        "    <th>Attack Name</th>\n",
        "    <th>Category</th>\n",
        "    <th>Attack Name</th>\n",
        "    <th>Category</th>\n",
        "    <th>Attack Name</th>\n",
        "  </tr>\n",
        "  <tr>\n",
        "    <td rowspan=\"8\"><center>DOS</center></td>\n",
        "    <td align='center'>smurf</td>\n",
        "    <td rowspan=\"8\"><center>U2R</center></td>\n",
        "    <td align='center'>buffer_overflow</td>\n",
        "    <td rowspan=\"8\"><center>R2L</center></td>\n",
        "    <td align='center'>ftp_write</td>\n",
        "    <td rowspan=\"8\"><center>PROBE</center></td>\n",
        "    <td align='center'>ipsweep</td>\n",
        "  </tr>\n",
        "  <tr>\n",
        "    <td align='center'>neptune</td>\n",
        "    <td align='center'>loadmodule</td>\n",
        "    <td align='center'>guess_passwd</td>\n",
        "    <td align='center'>nmap</td>\n",
        "  </tr>\n",
        "  <tr>\n",
        "    <td align='center'>back</td>\n",
        "    <td align='center'>perl</td>\n",
        "    <td align='center'>imap</td>\n",
        "    <td align='center'>portsweep</td>\n",
        "  </tr>\n",
        "  <tr>\n",
        "    <td align='center'>pod</td>\n",
        "    <td align='center'>rootkit</td>\n",
        "    <td align='center'>multihop</td>\n",
        "    <td align='center'>satan</td>\n",
        "  </tr>\n",
        "  <tr>\n",
        "    <td align='center'>teardrop</td>\n",
        "    <td align='center'>&nbsp;</td>\n",
        "    <td align='center'>phf</td>\n",
        "    <td align='center'>&nbsp;</td>\n",
        "  </tr>\n",
        "  <tr>\n",
        "    <td align='center'>land</td>\n",
        "    <td align='center'>&nbsp;</td>\n",
        "    <td align='center'>spy</td>\n",
        "    <td align='center'>&nbsp;</td>\n",
        "  </tr>\n",
        "  <tr>\n",
        "    <td align='center'>&nbsp;</td>\n",
        "    <td align='center'>&nbsp;</td>\n",
        "    <td align='center'>warezclient</td>\n",
        "    <td align='center'>&nbsp;</td>\n",
        "  </tr>\n",
        "  <tr>\n",
        "    <td align='center'>&nbsp;</td>\n",
        "    <td align='center'>&nbsp;</td>\n",
        "    <td align='center'>warezmaster</td>\n",
        "    <td align='center'>&nbsp;</td>\n",
        "  </tr>\n",
        "  <tr>\n",
        "</table>\n",
        "<!-- array(['normal.', 'buffer_overflow.', 'loadmodule.', 'perl.', 'neptune.',\n",
        "       'smurf.', 'guess_passwd.', 'pod.', 'teardrop.', 'portsweep.',\n",
        "       'ipsweep.', 'land.', 'ftp_write.', 'back.', 'imap.', 'satan.',\n",
        "       'phf.', 'nmap.', 'multihop.', 'warezmaster.', 'warezclient.',\n",
        "       'spy.', 'rootkit.'], dtype=object) -->\n",
        "\n",
        "<!-- | Category | Attack Name |\n",
        "| :-: | :-: |\n",
        "| DOS | smurf. | -->"
      ]
    },
    {
      "cell_type": "code",
      "metadata": {
        "id": "FOXZvAVNsrPl"
      },
      "source": [
        "# ================================================================\n",
        "# Define the mapping table of attack categories\n",
        "# ================================================================\n",
        "attackMap = {\n",
        "    'normal.':'normal', 'smurf.':'dos', 'neptune.':'dos',\n",
        "    'back.':'dos', 'pod.':'dos', 'teardrop.':'dos', 'land.':'dos',\n",
        "    'buffer_overflow.':'u2r', 'loadmodule.':'u2r', 'perl.':'u2r',\n",
        "    'rootkit.':'u2r', 'ftp_write.':'r2l', 'guess_passwd.':'r2l',\n",
        "    'imap.':'r2l', 'multihop.':'r2l', 'phf.':'r2l', 'spy.':'r2l',\n",
        "    'warezclient.':'r2l', 'warezmaster.':'r2l',\n",
        "    'ipsweep.':'probe', 'nmap.':'probe', 'portsweep.':'probe',\n",
        "    'satan.':'probe',\n",
        "}\n",
        "\n",
        "# ================================================================\n",
        "# Define a function to map into malicious/normal\n",
        "# ================================================================\n",
        "def mapMalNorm(res):\n",
        "  return np.array([0 if x=='normal' else 1 for x in res])"
      ],
      "execution_count": 41,
      "outputs": []
    },
    {
      "cell_type": "code",
      "metadata": {
        "id": "K8QOlBYbQZGq"
      },
      "source": [
        "# ================================================================\n",
        "# Update the label data back\n",
        "# ================================================================\n",
        "dTrain['label'] = data10['label']\n",
        "dTest['label']  = testCorrect['label']\n",
        "dNewTst['label']= newRecords['label']\n",
        "\n",
        "dTrainM['label'] = data10Mod['label']\n",
        "dTestM['label']  = dataTstMod['label']\n",
        "dNewTstM['label']= newMod['label']\n",
        "# ================================================================\n",
        "# Encode the labels into categories\n",
        "# ================================================================\n",
        "datasets = [dTrain,dTest,dNewTst,dTrainM,dTestM,dNewTstM]\n",
        "for d in datasets:\n",
        "  d['label'] = d['label'].map(lambda x: attackMap[x] if x \n",
        "                              in attackMap else 'other')"
      ],
      "execution_count": 42,
      "outputs": []
    },
    {
      "cell_type": "code",
      "metadata": {
        "colab": {
          "base_uri": "https://localhost:8080/"
        },
        "id": "ZWc-vdiQQZGs",
        "outputId": "1d31ea75-0449-4de6-9d33-bd90a246598e"
      },
      "source": [
        "# ================================================================\n",
        "# Print the percentage of each attack\n",
        "# ================================================================\n",
        "print(dTrain.label.value_counts()/len(dTrain))\n",
        "print(dTest.label.value_counts()/len(dTest))\n",
        "print(dNewTst.label.value_counts()/len(dNewTst))"
      ],
      "execution_count": 43,
      "outputs": [
        {
          "output_type": "stream",
          "text": [
            "dos       0.792391\n",
            "normal    0.196911\n",
            "probe     0.008313\n",
            "r2l       0.002279\n",
            "u2r       0.000105\n",
            "Name: label, dtype: float64\n",
            "dos       0.717933\n",
            "normal    0.194815\n",
            "other     0.060216\n",
            "r2l       0.019268\n",
            "probe     0.007642\n",
            "u2r       0.000125\n",
            "Name: label, dtype: float64\n",
            "other    1.0\n",
            "Name: label, dtype: float64\n"
          ],
          "name": "stdout"
        }
      ]
    },
    {
      "cell_type": "code",
      "metadata": {
        "id": "jkQTsYXlQZGx"
      },
      "source": [
        "# ================================================================\n",
        "# Split the data from the target label\n",
        "# ================================================================\n",
        "y,x = splitTarget(dTrain)\n",
        "yT,xT = splitTarget(dTest)\n",
        "yN,xN = splitTarget(dNewTst)\n",
        "# ================================================================\n",
        "# Split the modified features\n",
        "# ================================================================\n",
        "y2,x2 = splitTarget(dTrainM)\n",
        "yT2,xT2 = splitTarget(dTestM)\n",
        "yN2,xN2 = splitTarget(dNewTstM)"
      ],
      "execution_count": 44,
      "outputs": []
    },
    {
      "cell_type": "code",
      "metadata": {
        "id": "607tTKcPQZGy"
      },
      "source": [
        "# ================================================================\n",
        "# Split the training features to have 30% for testing and  70% for\n",
        "# training.\n",
        "# ================================================================\n",
        "x_train,x_test,y_train,y_test = train_test_split(x,y, \n",
        "                                                 test_size = 0.30)\n",
        "x_train2,x_test2,y_train2,y_test2 = train_test_split(x2,y2, \n",
        "                                                 test_size = 0.30) "
      ],
      "execution_count": 45,
      "outputs": []
    },
    {
      "cell_type": "code",
      "metadata": {
        "colab": {
          "base_uri": "https://localhost:8080/"
        },
        "id": "GSF40PpsQZG0",
        "outputId": "9867c9a2-ff2d-4519-de83-b65f6e8ceb5b"
      },
      "source": [
        "# ================================================================\n",
        "# Train our model based on the training part from the \n",
        "# ================================================================\n",
        "rf = RandomForestClassifier(n_estimators =100,n_jobs=-1,verbose=0)\n",
        "rf.fit(x_train, y_train)"
      ],
      "execution_count": 46,
      "outputs": [
        {
          "output_type": "execute_result",
          "data": {
            "text/plain": [
              "RandomForestClassifier(bootstrap=True, ccp_alpha=0.0, class_weight=None,\n",
              "                       criterion='gini', max_depth=None, max_features='auto',\n",
              "                       max_leaf_nodes=None, max_samples=None,\n",
              "                       min_impurity_decrease=0.0, min_impurity_split=None,\n",
              "                       min_samples_leaf=1, min_samples_split=2,\n",
              "                       min_weight_fraction_leaf=0.0, n_estimators=100,\n",
              "                       n_jobs=-1, oob_score=False, random_state=None, verbose=0,\n",
              "                       warm_start=False)"
            ]
          },
          "metadata": {
            "tags": []
          },
          "execution_count": 46
        }
      ]
    },
    {
      "cell_type": "code",
      "metadata": {
        "colab": {
          "base_uri": "https://localhost:8080/"
        },
        "id": "PBTLGI6RAV5K",
        "outputId": "2451861a-5219-4c3f-d443-f391b448f6dd"
      },
      "source": [
        "# ================================================================\n",
        "# Train on the slected features only\n",
        "# ================================================================\n",
        "rf2 = RandomForestClassifier(n_estimators = 100,n_jobs=-1,verbose=0)\n",
        "rf2.fit(x_train2, y_train2)"
      ],
      "execution_count": 47,
      "outputs": [
        {
          "output_type": "execute_result",
          "data": {
            "text/plain": [
              "RandomForestClassifier(bootstrap=True, ccp_alpha=0.0, class_weight=None,\n",
              "                       criterion='gini', max_depth=None, max_features='auto',\n",
              "                       max_leaf_nodes=None, max_samples=None,\n",
              "                       min_impurity_decrease=0.0, min_impurity_split=None,\n",
              "                       min_samples_leaf=1, min_samples_split=2,\n",
              "                       min_weight_fraction_leaf=0.0, n_estimators=100,\n",
              "                       n_jobs=-1, oob_score=False, random_state=None, verbose=0,\n",
              "                       warm_start=False)"
            ]
          },
          "metadata": {
            "tags": []
          },
          "execution_count": 47
        }
      ]
    },
    {
      "cell_type": "markdown",
      "metadata": {
        "id": "BqB_gUA16tmL"
      },
      "source": [
        "### Model Accuracy"
      ]
    },
    {
      "cell_type": "code",
      "metadata": {
        "colab": {
          "base_uri": "https://localhost:8080/"
        },
        "id": "niIGwqo09yC9",
        "outputId": "476080b4-1c6f-42ec-d3d6-2a3c1bb54acb"
      },
      "source": [
        "y_pred = rf.predict(x_test)\n",
        "print(\"Accuracy [d1]: \", metrics.accuracy_score(y_test, y_pred))\n",
        "y_pred = rf.predict(xT)\n",
        "print(\"Accuracy [d2]: \", metrics.accuracy_score(yT, y_pred))\n",
        "\n",
        "# ================================================================\n",
        "# After Mapping\n",
        "# ================================================================\n",
        "print(\"\\n=====After Mapping into Malicious/Normal=====\")\n",
        "datasets = [x_test,xT,xN]\n",
        "y = [y_test,yT,yN]\n",
        "label = [\"d1\",\"d2\",\"d3\"]\n",
        "for i in range(len(datasets)):\n",
        "  y_pred = rf.predict(datasets[i])\n",
        "  acc = metrics.accuracy_score(mapMalNorm(y[i]), mapMalNorm(y_pred))\n",
        "  print(\"Accuracy [\"+label[i]+\"]: \" + str(acc))\n",
        "\n",
        "\n",
        "print(\"\\n::::Using the selected features::::\\n\")\n",
        "y_pred = rf2.predict(x_test2)\n",
        "print(\"Accuracy [d1]: \", metrics.accuracy_score(y_test2, y_pred))\n",
        "y_pred = rf2.predict(xT2)\n",
        "print(\"Accuracy [d1]: \", metrics.accuracy_score(yT2, y_pred))\n",
        "\n",
        "\n",
        "# ================================================================\n",
        "# After Mapping\n",
        "# ================================================================\n",
        "print(\"\\n=====After Mapping into Malicious/Normal=====\")\n",
        "datasets2 = [x_test2,xT2,xN2]\n",
        "y2 = [y_test2,yT2,yN2]\n",
        "for i in range(len(datasets2)):\n",
        "  y_pred = rf2.predict(datasets2[i])\n",
        "  acc = metrics.accuracy_score(mapMalNorm(y2[i]), mapMalNorm(y_pred))\n",
        "  print(\"Accuracy [\"+label[i]+\"]: \" + str(acc))"
      ],
      "execution_count": 48,
      "outputs": [
        {
          "output_type": "stream",
          "text": [
            "Accuracy [d1]:  0.999831317009318\n",
            "Accuracy [d2]:  0.9207501551302291\n",
            "\n",
            "=====After Mapping into Malicious/Normal=====\n",
            "Accuracy [d1]: 0.999831317009318\n",
            "Accuracy [d2]: 0.9246758340862106\n",
            "Accuracy [d3]: 0.06449890544076031\n",
            "\n",
            "::::Using the selected features::::\n",
            "\n",
            "Accuracy [d1]:  0.9997705911326725\n",
            "Accuracy [d1]:  0.9196152127293596\n",
            "\n",
            "=====After Mapping into Malicious/Normal=====\n",
            "Accuracy [d1]: 0.9998380643289453\n",
            "Accuracy [d2]: 0.9255664262817936\n",
            "Accuracy [d3]: 0.09140904479683913\n"
          ],
          "name": "stdout"
        }
      ]
    },
    {
      "cell_type": "markdown",
      "metadata": {
        "id": "bLhMHocO6vgr"
      },
      "source": [
        "### Model F-Score\n",
        "Because the data is not balanced, F-score might be favored over the accuracy"
      ]
    },
    {
      "cell_type": "code",
      "metadata": {
        "colab": {
          "base_uri": "https://localhost:8080/"
        },
        "id": "ObljcSYKZws6",
        "outputId": "85b954fe-7d2a-4bfb-a313-c4e0239f32d3"
      },
      "source": [
        "# y_pred = rf.predict(x_test)\n",
        "# print(\"F-Score [d1]: \", metrics.f1_score(y_test, y_pred))\n",
        "# y_pred = rf.predict(xT)\n",
        "# print(\"F-Score [d2]: \", metrics.f1_score(yT, y_pred))\n",
        "\n",
        "# ================================================================\n",
        "# After Mapping\n",
        "# ================================================================\n",
        "print(\"\\n=====After Mapping into Malicious/Normal=====\")\n",
        "datasets = [x_test,xT,xN]\n",
        "y = [y_test,yT,yN]\n",
        "label = [\"d1\",\"d2\",\"d3\"]\n",
        "for i in range(len(datasets)):\n",
        "  y_pred = rf.predict(datasets[i])\n",
        "  fScore = metrics.f1_score(mapMalNorm(y[i]), mapMalNorm(y_pred))\n",
        "  print(\"F-Score [\"+label[i]+\"]: \" + str(fScore))\n",
        "\n",
        "\n",
        "print(\"\\n::::Using the selected features::::\\n\")\n",
        "# y_pred = rf2.predict(x_test2)\n",
        "# print(\"F-Score [d1]: \", metrics.f1_score(y_test2, y_pred))\n",
        "# y_pred = rf2.predict(xT2)\n",
        "# print(\"F-Score [d1]: \", metrics.f1_score(yT2, y_pred))\n",
        "\n",
        "\n",
        "# ================================================================\n",
        "# After Mapping\n",
        "# ================================================================\n",
        "# print(\"\\n=====After Mapping into Malicious/Normal=====\")\n",
        "datasets2 = [x_test2,xT2,xN2]\n",
        "y2 = [y_test2,yT2,yN2]\n",
        "for i in range(len(datasets2)):\n",
        "  y_pred = rf2.predict(datasets2[i])\n",
        "  fScore = metrics.f1_score(mapMalNorm(y2[i]), mapMalNorm(y_pred))\n",
        "  print(\"F-Score [\"+label[i]+\"]: \" + str(fScore))"
      ],
      "execution_count": 49,
      "outputs": [
        {
          "output_type": "stream",
          "text": [
            "\n",
            "=====After Mapping into Malicious/Normal=====\n",
            "F-Score [d1]: 0.999894917804707\n",
            "F-Score [d2]: 0.9509899084564791\n",
            "F-Score [d3]: 0.12118172242564076\n",
            "\n",
            "::::Using the selected features::::\n",
            "\n",
            "F-Score [d1]: 0.999899095220477\n",
            "F-Score [d2]: 0.9515996512816653\n",
            "F-Score [d3]: 0.1675064820703488\n"
          ],
          "name": "stdout"
        }
      ]
    },
    {
      "cell_type": "markdown",
      "metadata": {
        "id": "hHbJTUtHmua3"
      },
      "source": [
        "### Confusion Matrix"
      ]
    },
    {
      "cell_type": "code",
      "metadata": {
        "colab": {
          "base_uri": "https://localhost:8080/",
          "height": 742
        },
        "id": "3m5P6a9Vm0pn",
        "outputId": "8755e08e-9d78-4306-c467-6cb8ed49096d"
      },
      "source": [
        "y_pred = rf.predict(x_test)\n",
        "plotConfMat(y_test,y_pred,\"Confusion Matrix of d1\")"
      ],
      "execution_count": 50,
      "outputs": [
        {
          "output_type": "display_data",
          "data": {
            "image/png": "[encoded data removed]",
            "text/plain": [
              "<Figure size 1080x864 with 2 Axes>"
            ]
          },
          "metadata": {
            "tags": [],
            "needs_background": "light"
          }
        }
      ]
    },
    {
      "cell_type": "code",
      "metadata": {
        "colab": {
          "base_uri": "https://localhost:8080/",
          "height": 742
        },
        "id": "OFmJD63Pm8kz",
        "outputId": "0393460c-dac9-466f-800f-06d771371435"
      },
      "source": [
        "plotConfMat(y_test,y_pred,\"Confusion Matrix of d1\",True)"
      ],
      "execution_count": 51,
      "outputs": [
        {
          "output_type": "display_data",
          "data": {
            "image/png": "[encoded data removed]",
            "text/plain": [
              "<Figure size 1080x864 with 2 Axes>"
            ]
          },
          "metadata": {
            "tags": [],
            "needs_background": "light"
          }
        }
      ]
    },
    {
      "cell_type": "code",
      "metadata": {
        "id": "Jau1H5Wam-tc"
      },
      "source": [
        "# y_pred = rf.predict(xT)\n",
        "# plotConfMat(yT,y_pred,\"Confusion Matrix of d2\",True)"
      ],
      "execution_count": 52,
      "outputs": []
    },
    {
      "cell_type": "code",
      "metadata": {
        "id": "ZpMfbryWnU4w"
      },
      "source": [
        "# y_pred2 = rf2.predict(xT2)\n",
        "# plotConfMat(yT2,y_pred2,\"Using selected features\\nConfusion Matrix of d2\",True)"
      ],
      "execution_count": 53,
      "outputs": []
    },
    {
      "cell_type": "markdown",
      "metadata": {
        "id": "uPEUkoW2V107"
      },
      "source": [
        "## Results\n",
        "Below, we mentione the results of our experiments. Notice:\n",
        "- `d1` represents the testing part, $30\\%$, of `kddcup.data_10_percent`.\n",
        "- `d2` represents the other dataset `corrected` which has various unseen attacks\n",
        "- `d3` represents all the records of `corrected` whose attack type is not present in `kddcup.data_10_percent`. The number of the new attacks is $17$\n",
        "\n",
        "Also notice \n",
        "- $0/1$ means our classifier tries to classify normal, $0$, vs malicious, $1$.\n",
        "- after map means our classifier tries to classify the traffic to one of the five categories: normal and 5 attack categories. Then, we map it into normal, $0$, vs malicious, $1$.\n",
        "- Var or variance selection: means eliminating features whose variance is below $0.1$\n",
        "- Corr: means eliminating one of features whose correlation is above $0.95$\n",
        "- Corr2: means eliminating one of features whose correlation is above $0.9$"
      ]
    },
    {
      "cell_type": "markdown",
      "metadata": {
        "id": "rY97YhzGEoOH"
      },
      "source": [
        "### Accuracy"
      ]
    },
    {
      "cell_type": "markdown",
      "metadata": {
        "id": "C5JTbcBEE2ul"
      },
      "source": [
        "$\\phantom{a}$\n",
        "<table width =100%>\n",
        "  <tr>\n",
        "    <th align='center'> Experiment </th>\n",
        "    <th align='center'> <strong> Accuracy of d1 $(\\%)$  </th>\n",
        "    <th align='center'> <strong> Accuracy of d2 $(\\%)$  </th>\n",
        "    <th align='center'> <strong> Accuracy of d3 $(\\%)$  </th>\n",
        "  </tr>\n",
        "  <tr>\n",
        "    <td align='center'> Using all features $[0/1]$</td>\n",
        "    <td align='center'> $99.98 \\%$ </td>\n",
        "    <td align='center'> $92.87 \\%$ </td>\n",
        "    <td align='center'> $10.9 \\%$ </td>\n",
        "  </tr>\n",
        "  <tr>\n",
        "    <td align='center'> All features after map</td>\n",
        "    <td align='center'> $99.98 \\%$ </td>\n",
        "    <td align='center'> $92.6 \\%$ </td>\n",
        "    <td align='center'> $7.26 \\%$ </td>\n",
        "  </tr>\n",
        "  <tr>\n",
        "    <td align='center'> Variance selection $[0/1]$</td>\n",
        "    <td align='center'> $99.97 \\%$ </td>\n",
        "    <td align='center'> $92.76 \\%$ </td>\n",
        "    <td align='center'> $9.16 \\%$ </td>\n",
        "  </tr>\n",
        "  <tr>\n",
        "    <td align='center'> Variance selection after map</td>\n",
        "    <td align='center'> $99.97 \\%$ </td>\n",
        "    <td align='center'> $92.58 \\%$ </td>\n",
        "    <td align='center'> $8.06 \\%$ </td>\n",
        "  </tr>\n",
        "  <tr>\n",
        "    <td align='center'> Var + Corr selection $[0/1]$</td>\n",
        "    <td align='center'> $99.98 \\%$ </td>\n",
        "    <td align='center'> $92.67 \\%$ </td>\n",
        "    <td align='center'> $9.51 \\%$ </td>\n",
        "  </tr>\n",
        "  <tr>\n",
        "    <td align='center'> Var + Corr selection after map</td>\n",
        "    <td align='center'> $99.98 \\%$ </td>\n",
        "    <td align='center'> $92.49 \\%$ </td>\n",
        "    <td align='center'> $7.41 \\%$ </td>\n",
        "  </tr>\n",
        "  <tr>\n",
        "    <td align='center'> Var + Corr2 $[0/1]$</td>\n",
        "    <td align='center'> $99.98 \\%$ </td>\n",
        "    <td align='center'> $92.56 \\%$ </td>\n",
        "    <td align='center'> $9.79 \\%$ </td>\n",
        "  </tr>\n",
        "  <tr>\n",
        "    <td align='center'> Var + Corr2 after map</td>\n",
        "    <td align='center'> $99.98 \\%$ </td>\n",
        "    <td align='center'> $92.42 \\%$ </td>\n",
        "    <td align='center'> $7.5 \\%$ </td>\n",
        "  </tr>\n",
        "</table>"
      ]
    },
    {
      "cell_type": "markdown",
      "metadata": {
        "id": "E-gEOgudEt4_"
      },
      "source": [
        "### F-Score"
      ]
    },
    {
      "cell_type": "markdown",
      "metadata": {
        "id": "HRKqUMYnFOQJ"
      },
      "source": [
        "$\\phantom{a}$\n",
        "<table width =100%>\n",
        "  <tr>\n",
        "    <th align='center'> Experiment </th>\n",
        "    <th align='center'> <strong> F-Score of d1   </th>\n",
        "    <th align='center'> <strong> F-Score of d2   </th>\n",
        "    <th align='center'> <strong> F-Score of d3   </th>\n",
        "  </tr>\n",
        "  <tr>\n",
        "    <td align='center'> Using all features $[0/1]$</td>\n",
        "    <td align='center'> $0.9998$ </td>\n",
        "    <td align='center'> $0.9526$ </td>\n",
        "    <td align='center'> $0.1496$ </td>\n",
        "  </tr>\n",
        "  <tr>\n",
        "    <td align='center'> All features after map</td>\n",
        "    <td align='center'> $0.9998$ </td>\n",
        "    <td align='center'> $0.9520$ </td>\n",
        "    <td align='center'> $0.1594$ </td>\n",
        "  </tr>\n",
        "  <tr>\n",
        "    <td align='center'> Variance selection $[0/1]$</td>\n",
        "    <td align='center'> $0.9998$ </td>\n",
        "    <td align='center'> $0.9530$ </td>\n",
        "    <td align='center'> $0.1708$ </td>\n",
        "  </tr>\n",
        "  <tr>\n",
        "    <td align='center'> Variance selection after map</td>\n",
        "    <td align='center'> $0.9998$ </td>\n",
        "    <td align='center'> $0.9520$ </td>\n",
        "    <td align='center'> $0.1553$ </td>\n",
        "  </tr>\n",
        "  <tr>\n",
        "    <td align='center'> Var + Corr $[0/1]$</td>\n",
        "    <td align='center'> $0.9998$ </td>\n",
        "    <td align='center'> $0.9519$ </td>\n",
        "    <td align='center'> $0.1559$ </td>\n",
        "  </tr>\n",
        "  <tr>\n",
        "    <td align='center'> Var + Corr after map</td>\n",
        "    <td align='center'> $0.9999$ </td>\n",
        "    <td align='center'> $0.9506$ </td>\n",
        "    <td align='center'> $0.1361$ </td>\n",
        "  </tr>\n",
        "  <tr>\n",
        "    <td align='center'> Var + Corr2 $[0/1]$</td>\n",
        "    <td align='center'> $0.9999$ </td>\n",
        "    <td align='center'> $0.9524$ </td>\n",
        "    <td align='center'> $0.1942$ </td>\n",
        "  </tr>\n",
        "  <tr>\n",
        "    <td align='center'> Var + Corr2 after map</td>\n",
        "    <td align='center'> $0.9998$ </td>\n",
        "    <td align='center'> $0.9507$ </td>\n",
        "    <td align='center'> $0.1338$ </td>\n",
        "  </tr>\n",
        "</table>"
      ]
    },
    {
      "cell_type": "markdown",
      "metadata": {
        "id": "wuLWb_xFkQkJ"
      },
      "source": [
        "## Future Work"
      ]
    },
    {
      "cell_type": "markdown",
      "metadata": {
        "id": "kwxyY15blavd"
      },
      "source": [
        "- Trying to develop heuristics to enhance the model ability to learn the **out of distribution** attacks, new ones.\n",
        "- Develop semi-supervised learning model with minor data from the unseen attacks\n",
        "- Developing Neural Network solution as a try to capture more complex features to use it in learning"
      ]
    }
  ]
}